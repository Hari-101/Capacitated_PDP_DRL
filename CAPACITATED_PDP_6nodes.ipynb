{
 "cells": [
  {
   "cell_type": "code",
   "execution_count": null,
   "metadata": {
    "colab": {
     "base_uri": "https://localhost:8080/"
    },
    "id": "7fpwJ1dmDjRh",
    "outputId": "d6e5823b-6023-4b1c-f148-c11177da9f5d"
   },
   "outputs": [
    {
     "name": "stdout",
     "output_type": "stream",
     "text": [
      "{'baseline': 'rollout',\n",
      " 'batch_size': 512,\n",
      " 'bl_alpha': 0.05,\n",
      " 'bl_warmup_epochs': 1,\n",
      " 'checkpoint_encoder': False,\n",
      " 'checkpoint_epochs': 1,\n",
      " 'data_distribution': None,\n",
      " 'embedding_dim': 128,\n",
      " 'epoch_size': 1280000,\n",
      " 'epoch_start': 0,\n",
      " 'eval_batch_size': 1024,\n",
      " 'eval_only': False,\n",
      " 'exp_beta': 0.8,\n",
      " 'graph_size': 6,\n",
      " 'hidden_dim': 128,\n",
      " 'load_path': None,\n",
      " 'log_dir': 'logs',\n",
      " 'log_step': 50,\n",
      " 'lr_critic': 0.0001,\n",
      " 'lr_decay': 1.0,\n",
      " 'lr_model': 0.0001,\n",
      " 'max_grad_norm': 1.0,\n",
      " 'model': 'attention',\n",
      " 'n_encode_layers': 3,\n",
      " 'n_epochs': 800,\n",
      " 'no_cuda': False,\n",
      " 'no_progress_bar': False,\n",
      " 'no_tensorboard': False,\n",
      " 'normalization': 'batch',\n",
      " 'output_dir': 'outputs',\n",
      " 'problem': 'pdp',\n",
      " 'resume': None,\n",
      " 'run_name': 'PDP20_rollout_20220825T010813',\n",
      " 'save_dir': 'outputs/pdp_6/PDP20_rollout_20220825T010813',\n",
      " 'seed': 1234,\n",
      " 'shrink_size': None,\n",
      " 'tanh_clipping': 10.0,\n",
      " 'use_cuda': True,\n",
      " 'val_dataset': None,\n",
      " 'val_size': 10000}\n",
      "Evaluating baseline model on evaluation dataset\n",
      "100%|███████████████████████████████████████████| 10/10 [00:00<00:00, 39.58it/s]\n",
      "Start train epoch 0, lr=0.0001 for run PDP20_rollout_20220825T010813\n",
      "  0%|                                                  | 0/2500 [00:00<?, ?it/s]epoch: 0, train_batch_id: 0, avg_cost: 3.5727784633636475\n",
      "grad_norm: 3.567890167236328, clipped: 1.0\n",
      "  2%|▊                                        | 49/2500 [00:03<02:59, 13.67it/s]epoch: 0, train_batch_id: 50, avg_cost: 3.0440609455108643\n",
      "grad_norm: 2.1616623401641846, clipped: 1.0\n",
      "  4%|█▌                                       | 99/2500 [00:07<02:59, 13.39it/s]epoch: 0, train_batch_id: 100, avg_cost: 2.9126694202423096\n",
      "grad_norm: 2.226762533187866, clipped: 1.0\n",
      "  6%|██▍                                     | 149/2500 [00:10<02:53, 13.57it/s]epoch: 0, train_batch_id: 150, avg_cost: 2.8870463371276855\n",
      "grad_norm: 2.0213139057159424, clipped: 1.0\n",
      "  8%|███▏                                    | 199/2500 [00:14<02:46, 13.79it/s]epoch: 0, train_batch_id: 200, avg_cost: 2.821746349334717\n",
      "grad_norm: 2.280034065246582, clipped: 1.0\n",
      " 10%|███▉                                    | 249/2500 [00:18<02:46, 13.49it/s]epoch: 0, train_batch_id: 250, avg_cost: 2.8324575424194336\n",
      "grad_norm: 2.187234401702881, clipped: 1.0\n",
      " 12%|████▊                                   | 299/2500 [00:22<02:39, 13.76it/s]epoch: 0, train_batch_id: 300, avg_cost: 2.7854061126708984\n",
      "grad_norm: 2.5550765991210938, clipped: 1.0\n",
      " 14%|█████▌                                  | 349/2500 [00:25<02:41, 13.30it/s]epoch: 0, train_batch_id: 350, avg_cost: 2.799311399459839\n",
      "grad_norm: 2.510258913040161, clipped: 1.0\n",
      " 16%|██████▍                                 | 399/2500 [00:29<02:49, 12.42it/s]epoch: 0, train_batch_id: 400, avg_cost: 2.7833046913146973\n",
      "grad_norm: 2.66709041595459, clipped: 1.0\n",
      " 18%|███████▏                                | 449/2500 [00:33<02:43, 12.58it/s]epoch: 0, train_batch_id: 450, avg_cost: 2.7793264389038086\n",
      "grad_norm: 2.6252284049987793, clipped: 1.0\n",
      " 20%|███████▉                                | 499/2500 [00:37<02:34, 12.97it/s]epoch: 0, train_batch_id: 500, avg_cost: 2.782522201538086\n",
      "grad_norm: 2.613825798034668, clipped: 1.0\n",
      " 22%|████████▊                               | 549/2500 [00:41<02:17, 14.21it/s]epoch: 0, train_batch_id: 550, avg_cost: 2.810454845428467\n",
      "grad_norm: 2.631991386413574, clipped: 1.0\n",
      " 24%|█████████▌                              | 599/2500 [00:44<02:16, 13.90it/s]epoch: 0, train_batch_id: 600, avg_cost: 2.802982807159424\n",
      "grad_norm: 2.486492156982422, clipped: 1.0\n",
      " 26%|██████████▍                             | 649/2500 [00:48<02:12, 14.01it/s]epoch: 0, train_batch_id: 650, avg_cost: 2.786573886871338\n",
      "grad_norm: 2.193340539932251, clipped: 1.0\n",
      " 28%|███████████▏                            | 699/2500 [00:51<02:08, 13.99it/s]epoch: 0, train_batch_id: 700, avg_cost: 2.758157730102539\n",
      "grad_norm: 2.5243327617645264, clipped: 1.0\n",
      " 30%|███████████▉                            | 749/2500 [00:55<02:09, 13.55it/s]epoch: 0, train_batch_id: 750, avg_cost: 2.7647006511688232\n",
      "grad_norm: 2.4484710693359375, clipped: 1.0\n",
      " 32%|████████████▊                           | 799/2500 [00:58<02:03, 13.80it/s]epoch: 0, train_batch_id: 800, avg_cost: 2.741522789001465\n",
      "grad_norm: 2.2281157970428467, clipped: 1.0\n",
      " 34%|█████████████▌                          | 849/2500 [01:02<01:58, 13.88it/s]epoch: 0, train_batch_id: 850, avg_cost: 2.7973945140838623\n",
      "grad_norm: 2.304753541946411, clipped: 1.0\n",
      " 36%|██████████████▍                         | 899/2500 [01:06<01:54, 14.03it/s]epoch: 0, train_batch_id: 900, avg_cost: 2.7293734550476074\n",
      "grad_norm: 2.0997707843780518, clipped: 1.0\n",
      " 38%|███████████████▏                        | 949/2500 [01:09<01:51, 13.96it/s]epoch: 0, train_batch_id: 950, avg_cost: 2.7870681285858154\n",
      "grad_norm: 2.3520243167877197, clipped: 1.0\n",
      " 40%|███████████████▉                        | 999/2500 [01:13<01:47, 13.92it/s]epoch: 0, train_batch_id: 1000, avg_cost: 2.8037681579589844\n",
      "grad_norm: 1.9872084856033325, clipped: 1.0\n",
      " 42%|████████████████▎                      | 1049/2500 [01:16<01:42, 14.12it/s]epoch: 0, train_batch_id: 1050, avg_cost: 2.777012348175049\n",
      "grad_norm: 2.373567819595337, clipped: 1.0\n",
      " 44%|█████████████████▏                     | 1099/2500 [01:20<01:39, 14.15it/s]epoch: 0, train_batch_id: 1100, avg_cost: 2.7457237243652344\n",
      "grad_norm: 2.0161993503570557, clipped: 1.0\n",
      " 46%|█████████████████▉                     | 1149/2500 [01:24<01:37, 13.93it/s]epoch: 0, train_batch_id: 1150, avg_cost: 2.7246265411376953\n",
      "grad_norm: 2.20774507522583, clipped: 1.0\n",
      " 48%|██████████████████▋                    | 1199/2500 [01:27<01:32, 14.01it/s]epoch: 0, train_batch_id: 1200, avg_cost: 2.7888731956481934\n",
      "grad_norm: 2.079627752304077, clipped: 1.0\n",
      " 50%|███████████████████▍                   | 1249/2500 [01:31<01:28, 14.12it/s]epoch: 0, train_batch_id: 1250, avg_cost: 2.7814388275146484\n",
      "grad_norm: 1.887963056564331, clipped: 1.0\n",
      " 52%|████████████████████▎                  | 1299/2500 [01:34<01:24, 14.18it/s]epoch: 0, train_batch_id: 1300, avg_cost: 2.739387035369873\n",
      "grad_norm: 3.3743271827697754, clipped: 1.0\n",
      " 54%|█████████████████████                  | 1349/2500 [01:38<01:22, 14.01it/s]epoch: 0, train_batch_id: 1350, avg_cost: 2.729983329772949\n",
      "grad_norm: 2.0494542121887207, clipped: 1.0\n",
      " 56%|█████████████████████▊                 | 1399/2500 [01:41<01:18, 13.97it/s]epoch: 0, train_batch_id: 1400, avg_cost: 2.7644104957580566\n",
      "grad_norm: 2.0681099891662598, clipped: 1.0\n",
      " 58%|██████████████████████▌                | 1449/2500 [01:45<01:16, 13.78it/s]epoch: 0, train_batch_id: 1450, avg_cost: 2.7666220664978027\n",
      "grad_norm: 2.0155630111694336, clipped: 1.0\n",
      " 60%|███████████████████████▍               | 1499/2500 [01:49<01:12, 13.84it/s]epoch: 0, train_batch_id: 1500, avg_cost: 2.757450580596924\n",
      "grad_norm: 2.60571551322937, clipped: 1.0\n",
      " 62%|████████████████████████▏              | 1549/2500 [01:52<01:08, 13.92it/s]epoch: 0, train_batch_id: 1550, avg_cost: 2.7478439807891846\n",
      "grad_norm: 1.6706546545028687, clipped: 1.0\n",
      " 64%|████████████████████████▉              | 1599/2500 [01:56<01:18, 11.47it/s]epoch: 0, train_batch_id: 1600, avg_cost: 2.721585988998413\n",
      "grad_norm: 2.1066524982452393, clipped: 1.0\n",
      " 66%|█████████████████████████▋             | 1649/2500 [02:01<01:22, 10.31it/s]epoch: 0, train_batch_id: 1650, avg_cost: 2.745795249938965\n",
      "grad_norm: 2.549755573272705, clipped: 1.0\n",
      " 68%|██████████████████████████▌            | 1699/2500 [02:05<01:11, 11.21it/s]epoch: 0, train_batch_id: 1700, avg_cost: 2.7074501514434814\n",
      "grad_norm: 1.8302826881408691, clipped: 1.0\n",
      " 70%|███████████████████████████▎           | 1749/2500 [02:11<01:23,  9.00it/s]epoch: 0, train_batch_id: 1750, avg_cost: 2.7566802501678467\n",
      "grad_norm: 2.164928436279297, clipped: 1.0\n",
      " 72%|████████████████████████████           | 1800/2500 [02:16<01:12,  9.69it/s]epoch: 0, train_batch_id: 1800, avg_cost: 2.758222818374634\n",
      "grad_norm: 2.328559160232544, clipped: 1.0\n",
      " 74%|████████████████████████████▊          | 1849/2500 [02:21<00:57, 11.31it/s]epoch: 0, train_batch_id: 1850, avg_cost: 2.7324604988098145\n",
      "grad_norm: 2.214998722076416, clipped: 1.0\n",
      " 76%|█████████████████████████████▌         | 1899/2500 [02:25<00:49, 12.23it/s]epoch: 0, train_batch_id: 1900, avg_cost: 2.7525172233581543\n",
      "grad_norm: 2.1008524894714355, clipped: 1.0\n"
     ]
    },
    {
     "name": "stdout",
     "output_type": "stream",
     "text": [
      " 78%|██████████████████████████████▍        | 1950/2500 [02:30<00:45, 12.11it/s]epoch: 0, train_batch_id: 1950, avg_cost: 2.7395248413085938\n",
      "grad_norm: 2.0854568481445312, clipped: 1.0\n",
      " 80%|███████████████████████████████▏       | 2000/2500 [02:34<00:38, 12.87it/s]epoch: 0, train_batch_id: 2000, avg_cost: 2.7241694927215576\n",
      "grad_norm: 1.74665105342865, clipped: 1.0\n",
      " 82%|███████████████████████████████▉       | 2050/2500 [02:37<00:30, 14.78it/s]epoch: 0, train_batch_id: 2050, avg_cost: 2.7302026748657227\n",
      "grad_norm: 1.8480806350708008, clipped: 1.0\n",
      " 84%|████████████████████████████████▊      | 2100/2500 [02:41<00:27, 14.45it/s]epoch: 0, train_batch_id: 2100, avg_cost: 2.75022029876709\n",
      "grad_norm: 1.8128546476364136, clipped: 1.0\n",
      " 86%|█████████████████████████████████▌     | 2150/2500 [02:44<00:24, 14.49it/s]epoch: 0, train_batch_id: 2150, avg_cost: 2.75413179397583\n",
      "grad_norm: 2.5011556148529053, clipped: 1.0\n",
      " 88%|██████████████████████████████████▎    | 2200/2500 [02:48<00:20, 14.49it/s]epoch: 0, train_batch_id: 2200, avg_cost: 2.7781243324279785\n",
      "grad_norm: 2.2483465671539307, clipped: 1.0\n",
      " 90%|███████████████████████████████████    | 2250/2500 [02:51<00:17, 14.21it/s]epoch: 0, train_batch_id: 2250, avg_cost: 2.7446041107177734\n",
      "grad_norm: 1.8166111707687378, clipped: 1.0\n",
      " 92%|███████████████████████████████████▉   | 2300/2500 [02:55<00:13, 14.44it/s]epoch: 0, train_batch_id: 2300, avg_cost: 2.7059876918792725\n",
      "grad_norm: 2.3724591732025146, clipped: 1.0\n",
      " 94%|████████████████████████████████████▋  | 2350/2500 [02:58<00:10, 14.43it/s]epoch: 0, train_batch_id: 2350, avg_cost: 2.724228858947754\n",
      "grad_norm: 1.9284390211105347, clipped: 1.0\n",
      " 96%|█████████████████████████████████████▍ | 2400/2500 [03:02<00:06, 14.51it/s]epoch: 0, train_batch_id: 2400, avg_cost: 2.7410435676574707\n",
      "grad_norm: 1.8373335599899292, clipped: 1.0\n",
      " 98%|██████████████████████████████████████▏| 2450/2500 [03:05<00:04, 12.50it/s]epoch: 0, train_batch_id: 2450, avg_cost: 2.7095556259155273\n",
      "grad_norm: 2.2871456146240234, clipped: 1.0\n",
      "100%|███████████████████████████████████████| 2500/2500 [03:09<00:00, 13.16it/s]\n",
      "Finished epoch 0, took 00:03:29 s\n",
      "Saving model and state...\n",
      "Validating...\n",
      "100%|███████████████████████████████████████████| 10/10 [00:00<00:00, 41.43it/s]\n",
      "Validation overall avg_cost: 2.7217845916748047 +- 0.004510725382715464\n",
      "Evaluating candidate model on evaluation dataset\n",
      "100%|███████████████████████████████████████████| 10/10 [00:00<00:00, 41.22it/s]\n",
      "Epoch 0 candidate mean 2.7196710109710693, baseline epoch 0 mean 3.409914016723633, difference -0.6902430057525635\n",
      "p-value: 0.0\n",
      "Update baseline\n",
      "Evaluating baseline model on evaluation dataset\n",
      "100%|███████████████████████████████████████████| 10/10 [00:00<00:00, 41.18it/s]\n",
      "Set warmup alpha = 1.0\n",
      "Start train epoch 1, lr=0.0001 for run PDP20_rollout_20220825T010813\n",
      "Evaluating baseline on dataset...\n",
      "100%|███████████████████████████████████████| 1250/1250 [00:30<00:00, 41.43it/s]\n",
      "  0%|                                                  | 0/2500 [00:00<?, ?it/s]epoch: 1, train_batch_id: 0, avg_cost: 2.7368063926696777\n",
      "grad_norm: 0.6052502989768982, clipped: 0.6052502989768982\n",
      "  2%|▊                                        | 49/2500 [00:03<02:57, 13.84it/s]epoch: 1, train_batch_id: 50, avg_cost: 2.7016477584838867\n",
      "grad_norm: 0.6938226819038391, clipped: 0.6938226819038391\n",
      "  4%|█▌                                       | 99/2500 [00:07<03:11, 12.53it/s]epoch: 1, train_batch_id: 100, avg_cost: 2.7340097427368164\n",
      "grad_norm: 0.5515021681785583, clipped: 0.5515021681785583\n",
      "  6%|██▍                                     | 149/2500 [00:11<03:11, 12.30it/s]epoch: 1, train_batch_id: 150, avg_cost: 2.6777286529541016\n",
      "grad_norm: 0.7351287603378296, clipped: 0.7351287603378296\n",
      "  8%|███▏                                    | 199/2500 [00:15<02:42, 14.19it/s]epoch: 1, train_batch_id: 200, avg_cost: 2.6888813972473145\n",
      "grad_norm: 0.55206698179245, clipped: 0.55206698179245\n",
      " 10%|███▉                                    | 249/2500 [00:18<02:38, 14.22it/s]epoch: 1, train_batch_id: 250, avg_cost: 2.68212890625\n",
      "grad_norm: 0.6074913740158081, clipped: 0.6074913740158081\n",
      " 12%|████▊                                   | 299/2500 [00:22<02:34, 14.28it/s]epoch: 1, train_batch_id: 300, avg_cost: 2.674907922744751\n",
      "grad_norm: 0.6415271162986755, clipped: 0.6415271162986755\n",
      " 14%|█████▌                                  | 349/2500 [00:26<02:51, 12.57it/s]epoch: 1, train_batch_id: 350, avg_cost: 2.678396224975586\n",
      "grad_norm: 0.5870182514190674, clipped: 0.5870182514190674\n",
      " 16%|██████▍                                 | 399/2500 [00:30<02:48, 12.49it/s]epoch: 1, train_batch_id: 400, avg_cost: 2.7119576930999756\n",
      "grad_norm: 0.6244300603866577, clipped: 0.6244300603866577\n",
      " 18%|███████▏                                | 449/2500 [00:34<02:42, 12.61it/s]epoch: 1, train_batch_id: 450, avg_cost: 2.7196569442749023\n",
      "grad_norm: 0.6179255247116089, clipped: 0.6179255247116089\n",
      " 20%|███████▉                                | 499/2500 [00:38<02:41, 12.40it/s]epoch: 1, train_batch_id: 500, avg_cost: 2.679543972015381\n",
      "grad_norm: 0.5431002378463745, clipped: 0.5431002378463745\n",
      " 22%|████████▊                               | 549/2500 [00:42<02:37, 12.39it/s]epoch: 1, train_batch_id: 550, avg_cost: 2.7271547317504883\n",
      "grad_norm: 0.5782395005226135, clipped: 0.5782395005226135\n",
      " 24%|█████████▌                              | 599/2500 [00:46<02:29, 12.73it/s]epoch: 1, train_batch_id: 600, avg_cost: 2.6926865577697754\n",
      "grad_norm: 0.564417839050293, clipped: 0.564417839050293\n",
      " 26%|██████████▍                             | 649/2500 [00:50<02:29, 12.37it/s]epoch: 1, train_batch_id: 650, avg_cost: 2.7043356895446777\n",
      "grad_norm: 0.9288625121116638, clipped: 0.9288625121116638\n",
      " 28%|███████████▏                            | 699/2500 [00:54<02:24, 12.48it/s]epoch: 1, train_batch_id: 700, avg_cost: 2.706493854522705\n",
      "grad_norm: 0.8025823831558228, clipped: 0.8025823831558228\n",
      " 30%|███████████▉                            | 749/2500 [00:57<02:03, 14.15it/s]epoch: 1, train_batch_id: 750, avg_cost: 2.6840622425079346\n",
      "grad_norm: 0.547900378704071, clipped: 0.547900378704071\n",
      " 32%|████████████▊                           | 799/2500 [01:01<02:12, 12.84it/s]epoch: 1, train_batch_id: 800, avg_cost: 2.6804230213165283\n",
      "grad_norm: 0.5111798644065857, clipped: 0.5111798644065857\n",
      " 34%|█████████████▌                          | 849/2500 [01:05<02:11, 12.55it/s]epoch: 1, train_batch_id: 850, avg_cost: 2.7130324840545654\n",
      "grad_norm: 0.6663084030151367, clipped: 0.6663084030151367\n",
      " 36%|██████████████▍                         | 899/2500 [01:09<02:09, 12.32it/s]epoch: 1, train_batch_id: 900, avg_cost: 2.705214500427246\n",
      "grad_norm: 0.5322405695915222, clipped: 0.5322405695915222\n",
      " 38%|███████████████▏                        | 949/2500 [01:13<02:04, 12.45it/s]epoch: 1, train_batch_id: 950, avg_cost: 2.662968635559082\n",
      "grad_norm: 0.6803279519081116, clipped: 0.6803279519081116\n",
      " 40%|███████████████▉                        | 999/2500 [01:17<02:00, 12.43it/s]epoch: 1, train_batch_id: 1000, avg_cost: 2.7133700847625732\n",
      "grad_norm: 0.7758892178535461, clipped: 0.7758892178535461\n",
      " 42%|████████████████▎                      | 1049/2500 [01:21<01:56, 12.42it/s]epoch: 1, train_batch_id: 1050, avg_cost: 2.6677207946777344\n",
      "grad_norm: 0.5577126145362854, clipped: 0.5577126145362854\n",
      " 44%|█████████████████                      | 1093/2500 [01:25<01:54, 12.34it/s]"
     ]
    }
   ],
   "source": [
    "!python /home/harinarayan/pickup_and_delivery/Capacitated_PDP_Updated_Code/run.py --graph_size 6 --baseline rollout --run_name 'PDP20_rollout'"
   ]
  },
  {
   "cell_type": "code",
   "execution_count": null,
   "metadata": {
    "id": "nD3sdQJTXlT8"
   },
   "outputs": [],
   "source": [
    "#Plotting the results\n"
   ]
  },
  {
   "cell_type": "code",
   "execution_count": null,
   "metadata": {
    "id": "q3f1Brp2bQw8"
   },
   "outputs": [],
   "source": [
    "import os\n",
    "import numpy as np\n",
    "import torch\n",
    "\n",
    "import sys\n",
    "sys.path.append('/content/Heterogeneous-Attentions-PDP-DRL')\n",
    "\n",
    "from torch.utils.data import DataLoader\n",
    "from utils import load_model\n",
    "from problems import PDP_cap\n",
    "\n",
    "from nets.attention_model import AttentionModel\n",
    "\n",
    "from utils.functions import parse_softmax_temperature, torch_load_cpu, _load_model_file\n"
   ]
  },
  {
   "cell_type": "code",
   "execution_count": null,
   "metadata": {
    "id": "vrGOvDiCdffh"
   },
   "outputs": [],
   "source": [
    "def load_model(path):\n",
    "    model_filename = path\n",
    "    problem = PDP_cap()\n",
    "    model = AttentionModel(\n",
    "        embedding_dim=128,\n",
    "        hidden_dim=128,\n",
    "        problem=problem,\n",
    "        n_encode_layers=3,\n",
    "        mask_inner=True,\n",
    "        mask_logits=True,\n",
    "        normalization='batch',\n",
    "        tanh_clipping=8,\n",
    "        checkpoint_encoder=False,\n",
    "        shrink_size=None\n",
    "    )\n",
    "    # Overwrite model parameters by parameters to load\n",
    "    load_data = torch_load_cpu(model_filename)\n",
    "    model.load_state_dict({**model.state_dict(), **load_data.get('model', {})})\n",
    "\n",
    "    model, *_ = _load_model_file(model_filename, model)\n",
    "\n",
    "    model.eval()  # Put in eval mode\n",
    "\n",
    "    return model, None"
   ]
  },
  {
   "cell_type": "code",
   "execution_count": null,
   "metadata": {
    "id": "rqUWJPbWbQr_"
   },
   "outputs": [],
   "source": [
    "#Plotting functions\n",
    "\n",
    "%matplotlib inline\n",
    "from matplotlib import pyplot as plt\n",
    "\n",
    "from matplotlib.collections import PatchCollection\n",
    "from matplotlib.patches import Rectangle\n",
    "from matplotlib.lines import Line2D\n",
    "\n",
    "# Code inspired by Google OR Tools plot:\n",
    "# https://github.com/google/or-tools/blob/fb12c5ded7423d524fc6c95656a9bdc290a81d4d/examples/python/cvrptw_plot.py\n",
    "\n",
    "def discrete_cmap(N, base_cmap=None):\n",
    "  \"\"\"\n",
    "    Create an N-bin discrete colormap from the specified input map\n",
    "    \"\"\"\n",
    "  # Note that if base_cmap is a string or None, you can simply do\n",
    "  #    return plt.cm.get_cmap(base_cmap, N)\n",
    "  # The following works for string, None, or a colormap instance:\n",
    "\n",
    "  base = plt.cm.get_cmap(base_cmap)\n",
    "  color_list = base(np.linspace(0, 1, N))\n",
    "  cmap_name = base.name + str(N)\n",
    "  return base.from_list(cmap_name, color_list, N)\n",
    "\n",
    "def plot_vehicle_routes(data, route, ax1, markersize=5, visualize_demands=True, demand_scale=1, round_demand=False):\n",
    "    \"\"\"\n",
    "    Plot the vehicle routes on matplotlib axis ax1.\n",
    "    \"\"\"\n",
    "    \n",
    "    # route is one sequence, separating different routes with 0 (depot)\n",
    "    routes = [r[r!=0] for r in np.split(route.cpu().numpy(), np.where(route==0)[0]) if (r != 0).any()]\n",
    "    depot = data['depot'].cpu().numpy()\n",
    "    locs = data['loc'].cpu().numpy()\n",
    "    demands = data['demand'].cpu().numpy() * demand_scale\n",
    "    capacity = demand_scale # Capacity is always 1\n",
    "    \n",
    "    x_dep, y_dep = depot\n",
    "    ax1.plot(x_dep, y_dep, 'sk', markersize=markersize*4)\n",
    "    ax1.set_xlim(0, 1)\n",
    "    ax1.set_ylim(0, 1)\n",
    "    \n",
    "    legend = ax1.legend(loc='upper center')\n",
    "    \n",
    "    cmap = discrete_cmap(len(routes) + 2, 'nipy_spectral')\n",
    "    dem_rects = []\n",
    "    used_rects = []\n",
    "    cap_rects = []\n",
    "    qvs = []\n",
    "    total_dist = 0\n",
    "    for veh_number, r in enumerate(routes):\n",
    "        color = cmap(len(routes) - veh_number) # Invert to have in rainbow order\n",
    "        \n",
    "        route_demands = demands[r - 1]\n",
    "        coords = locs[r - 1, :]\n",
    "        xs, ys = coords.transpose()\n",
    "\n",
    "        total_route_demand = sum(route_demands)\n",
    "        assert total_route_demand <= capacity\n",
    "        if not visualize_demands:\n",
    "            ax1.plot(xs, ys, 'o', mfc=color, markersize=markersize, markeredgewidth=0.0)\n",
    "        \n",
    "        dist = 0\n",
    "        x_prev, y_prev = x_dep, y_dep\n",
    "        cum_demand = 0\n",
    "        i=0\n",
    "        for (x, y), d in zip(coords, route_demands):\n",
    "            dist += np.sqrt((x - x_prev) ** 2 + (y - y_prev) ** 2)\n",
    "            \n",
    "            \n",
    "            cap_rects.append(Rectangle((x, y), 0.01, 0.1))\n",
    "            used_rects.append(Rectangle((x, y), 0.01, 0.1 * total_route_demand / capacity))\n",
    "            dem_rects.append(Rectangle((x, y + 0.1 * cum_demand / capacity), 0.01, 0.1 * d / capacity))\n",
    "            if d < 0:\n",
    "              plt.text(x,y,(f\"d{int(r[i]-(len(r)/2))}\",round(d,2)) )\n",
    "            else:\n",
    "              plt.text(x,y,(f\"p{r[i]}\",round(d,2)) )\n",
    "            i +=1\n",
    "\n",
    "\n",
    "            x_prev, y_prev = x, y\n",
    "            cum_demand += d\n",
    "            \n",
    "        dist += np.sqrt((x_dep - x_prev) ** 2 + (y_dep - y_prev) ** 2)\n",
    "        total_dist += dist\n",
    "        qv = ax1.quiver(\n",
    "            xs[:-1],\n",
    "            ys[:-1],\n",
    "            xs[1:] - xs[:-1],\n",
    "            ys[1:] - ys[:-1],\n",
    "            scale_units='xy',\n",
    "            angles='xy',\n",
    "            scale=1,\n",
    "            color=color,\n",
    "            label='R{}, # {}, c {} / {}, d {:.2f}'.format(\n",
    "                veh_number, \n",
    "                len(r), \n",
    "                int(total_route_demand) if round_demand else total_route_demand, \n",
    "                int(capacity) if round_demand else capacity,\n",
    "                dist\n",
    "            )\n",
    "        )\n",
    "        \n",
    "        qvs.append(qv)\n",
    "        \n",
    "    ax1.set_title('{} routes, total distance {:.2f}'.format(len(routes), total_dist))\n",
    "    ax1.legend(handles=qvs)\n",
    "    \n",
    "    pc_cap = PatchCollection(cap_rects, facecolor='whitesmoke', alpha=1.0, edgecolor='lightgray')\n",
    "    pc_used = PatchCollection(used_rects, facecolor='green', alpha=1.0, edgecolor='lightgray')\n",
    "    pc_dem = PatchCollection(dem_rects, facecolor='black', alpha=1.0, edgecolor='black')\n",
    "    \n",
    "    if visualize_demands:\n",
    "        ax1.add_collection(pc_cap)\n",
    "        ax1.add_collection(pc_used)\n",
    "        ax1.add_collection(pc_dem)"
   ]
  },
  {
   "cell_type": "code",
   "execution_count": null,
   "metadata": {
    "id": "_WTZJbXheJLU"
   },
   "outputs": [],
   "source": [
    "#Making a capacitated PDP Dataset\n",
    "from torch.utils.data import Dataset\n",
    "class PDP_cap_Dataset(Dataset):\n",
    "\n",
    "    def __init__(self, filename=None, size=50, num_samples=1000000, offset=0, distribution=None):\n",
    "        super(PDP_cap_Dataset, self).__init__()\n",
    "\n",
    "        self.data_set = []\n",
    "        if filename is not None:\n",
    "            assert os.path.splitext(filename)[1] == '.pkl'\n",
    "\n",
    "            with open(filename, 'rb') as f:\n",
    "                data = pickle.load(f)\n",
    "            self.data = [make_instance(args) for args in data[offset:offset+num_samples]]\n",
    "\n",
    "        else:\n",
    "\n",
    "              # # From VRP with RL paper https://arxiv.org/abs/1802.04240\n",
    "              # CAPACITIES = {\n",
    "              #     10: 20.,\n",
    "              #     20: 30.,\n",
    "              #     50: 40.,\n",
    "              #     100: 50.\n",
    "              # }         #For adjusting the average number of orders that can be loaded on the resource at a time\n",
    "\n",
    "            #Any information required for the vehicle capacity?\n",
    "            #Should interim_demand be accessible as a class attribute?\n",
    "            #If needed, the vehicle could carry all of them at once.\n",
    "            interim_demand = (torch.FloatTensor(size//2).uniform_(0, 1))\n",
    "            self.data = [\n",
    "                {\n",
    "                    # Why not across [-1, 1]?\n",
    "                    #'loc' refers to the initial location of the resource\n",
    "                    'loc': torch.FloatTensor(size, 2).uniform_(0, 1),\n",
    "                    'depot': torch.FloatTensor(2).uniform_(0, 1),\n",
    "                    #Vehicle capacity shall be 1 and demands in Uniform (0, 1)\n",
    "                    #Interaction between number of nodes, size range of each node, resource capacity to load \n",
    "                          #ratio etc\n",
    "                    #---Demand of second-half should be negative of the first half\n",
    "                    'demand': torch.cat((interim_demand, torch.neg(interim_demand)), -1 )    #Setting avg number of loadable orders at a time\n",
    "                }\n",
    "                for i in range(num_samples)\n",
    "            ]\n",
    "\n",
    "        self.size = len(self.data)\n",
    "\n",
    "    def __len__(self):\n",
    "        return self.size\n",
    "\n",
    "    def __getitem__(self, idx):\n",
    "        return self.data[idx]"
   ]
  },
  {
   "cell_type": "code",
   "execution_count": null,
   "metadata": {
    "id": "KR0uWEfakaVm"
   },
   "outputs": [],
   "source": [
    "pdp_cap_make_dataset= PDP_cap_Dataset(size=10, num_samples=1)"
   ]
  },
  {
   "cell_type": "code",
   "execution_count": null,
   "metadata": {
    "colab": {
     "base_uri": "https://localhost:8080/"
    },
    "id": "pv4LCLqDj6QQ",
    "outputId": "ce87335d-4962-46da-b844-e26115f740c2"
   },
   "outputs": [
    {
     "name": "stdout",
     "output_type": "stream",
     "text": [
      "  [*] Loading model from /content/outputs/pdp_10/PDP_cap_10_rollout_20220617T065812/epoch-11.pt\n"
     ]
    }
   ],
   "source": [
    "model_path = '/content/outputs/pdp_10/PDP_cap_10_rollout_20220617T065812/epoch-11.pt'\n",
    "at_model, _ = load_model(model_path)"
   ]
  },
  {
   "cell_type": "code",
   "execution_count": null,
   "metadata": {
    "id": "xnwLbWazkaTF"
   },
   "outputs": [],
   "source": [
    "# Need a dataloader to batch instances\n",
    "dataloader = DataLoader(pdp_cap_make_dataset, batch_size=1)\n",
    "\n",
    "# Make var works for dicts\n",
    "batch = next(iter(dataloader))\n",
    "\n",
    "# Run the model\n",
    "at_model.eval()\n",
    "at_model.set_decode_type('greedy')\n",
    "with torch.no_grad():\n",
    "    length, log_p, pi = at_model(batch, return_pi=True)\n",
    "tours = pi"
   ]
  },
  {
   "cell_type": "code",
   "execution_count": null,
   "metadata": {
    "colab": {
     "base_uri": "https://localhost:8080/",
     "height": 517
    },
    "id": "LWSIlKK747Qy",
    "outputId": "ab1a1927-8e15-4764-d7a0-800d96aaf190"
   },
   "outputs": [
    {
     "name": "stderr",
     "output_type": "stream",
     "text": [
      "No handles with labels found to put in legend.\n"
     ]
    },
    {
     "data": {
      "image/png": "[encoded data removed]",
      "text/plain": [
       "<Figure size 576x576 with 1 Axes>"
      ]
     },
     "metadata": {
      "needs_background": "light"
     },
     "output_type": "display_data"
    }
   ],
   "source": [
    "# Epoch-11 \n",
    "# Plot the results\n",
    "for i, (data, tour) in enumerate(zip(pdp_cap_make_dataset, tours)):\n",
    "    fig, ax = plt.subplots(figsize=(8, 8))\n",
    "    plot_vehicle_routes(data, tour, ax, visualize_demands=False, demand_scale=1, round_demand=False)\n",
    "    #fig.savefig(os.path.join('images', 'pdp_cap_{}.png'.format(i)))"
   ]
  },
  {
   "cell_type": "code",
   "execution_count": null,
   "metadata": {
    "colab": {
     "base_uri": "https://localhost:8080/",
     "height": 517
    },
    "id": "1QWj8wNN4rhS",
    "outputId": "edf1a97f-22e0-4ed6-8917-9b2dd3304596"
   },
   "outputs": [
    {
     "name": "stderr",
     "output_type": "stream",
     "text": [
      "No handles with labels found to put in legend.\n"
     ]
    },
    {
     "data": {
      "image/png": "[encoded data removed]",
      "text/plain": [
       "<Figure size 576x576 with 1 Axes>"
      ]
     },
     "metadata": {
      "needs_background": "light"
     },
     "output_type": "display_data"
    }
   ],
   "source": [
    "# Epoch-10 \n",
    "# Plot the results\n",
    "for i, (data, tour) in enumerate(zip(pdp_cap_make_dataset, tours)):\n",
    "    fig, ax = plt.subplots(figsize=(8, 8))\n",
    "    plot_vehicle_routes(data, tour, ax, visualize_demands=False, demand_scale=1, round_demand=False)\n",
    "    #fig.savefig(os.path.join('images', 'pdp_cap_{}.png'.format(i)))"
   ]
  },
  {
   "cell_type": "code",
   "execution_count": null,
   "metadata": {
    "colab": {
     "base_uri": "https://localhost:8080/",
     "height": 517
    },
    "id": "puG50ege4U8z",
    "outputId": "76567ece-148f-494a-c0e2-fa7f04ef6101"
   },
   "outputs": [
    {
     "name": "stderr",
     "output_type": "stream",
     "text": [
      "No handles with labels found to put in legend.\n"
     ]
    },
    {
     "data": {
      "image/png": "[encoded data removed]",
      "text/plain": [
       "<Figure size 576x576 with 1 Axes>"
      ]
     },
     "metadata": {
      "needs_background": "light"
     },
     "output_type": "display_data"
    }
   ],
   "source": [
    "# Epoch-0 \n",
    "# Plot the results\n",
    "for i, (data, tour) in enumerate(zip(pdp_cap_make_dataset, tours)):\n",
    "    fig, ax = plt.subplots(figsize=(8, 8))\n",
    "    plot_vehicle_routes(data, tour, ax, visualize_demands=False, demand_scale=1, round_demand=False)\n",
    "    #fig.savefig(os.path.join('images', 'pdp_cap_{}.png'.format(i)))"
   ]
  },
  {
   "cell_type": "code",
   "execution_count": null,
   "metadata": {
    "colab": {
     "base_uri": "https://localhost:8080/",
     "height": 517
    },
    "id": "Q6lpP4_R3dsk",
    "outputId": "1f2a12ec-8d46-485f-b0f0-41134ece8713"
   },
   "outputs": [
    {
     "name": "stderr",
     "output_type": "stream",
     "text": [
      "No handles with labels found to put in legend.\n"
     ]
    },
    {
     "data": {
      "image/png": "[encoded data removed]",
      "text/plain": [
       "<Figure size 576x576 with 1 Axes>"
      ]
     },
     "metadata": {
      "needs_background": "light"
     },
     "output_type": "display_data"
    }
   ],
   "source": [
    "# Epoch-16 \n",
    "# Plot the results\n",
    "for i, (data, tour) in enumerate(zip(pdp_cap_make_dataset, tours)):\n",
    "    fig, ax = plt.subplots(figsize=(8, 8))\n",
    "    plot_vehicle_routes(data, tour, ax, visualize_demands=False, demand_scale=1, round_demand=False)\n",
    "    #fig.savefig(os.path.join('images', 'pdp_cap_{}.png'.format(i)))"
   ]
  },
  {
   "cell_type": "code",
   "execution_count": null,
   "metadata": {
    "colab": {
     "base_uri": "https://localhost:8080/",
     "height": 517
    },
    "id": "W5KF8kCj2n5z",
    "outputId": "667dd5f9-afa0-4b60-8c9b-572ddd1cd050"
   },
   "outputs": [
    {
     "name": "stderr",
     "output_type": "stream",
     "text": [
      "No handles with labels found to put in legend.\n"
     ]
    },
    {
     "data": {
      "image/png": "[encoded data removed]",
      "text/plain": [
       "<Figure size 576x576 with 1 Axes>"
      ]
     },
     "metadata": {
      "needs_background": "light"
     },
     "output_type": "display_data"
    }
   ],
   "source": [
    "# Epoch-18 (same for 17) worse! than 14\n",
    "# Plot the results\n",
    "for i, (data, tour) in enumerate(zip(pdp_cap_make_dataset, tours)):\n",
    "    fig, ax = plt.subplots(figsize=(8, 8))\n",
    "    plot_vehicle_routes(data, tour, ax, visualize_demands=False, demand_scale=1, round_demand=False)\n",
    "    #fig.savefig(os.path.join('images', 'pdp_cap_{}.png'.format(i)))"
   ]
  },
  {
   "cell_type": "code",
   "execution_count": null,
   "metadata": {
    "colab": {
     "base_uri": "https://localhost:8080/",
     "height": 517
    },
    "id": "k4oCtj-VTKJ0",
    "outputId": "e38670cc-f76d-4c60-ee99-517b93836903"
   },
   "outputs": [
    {
     "name": "stderr",
     "output_type": "stream",
     "text": [
      "No handles with labels found to put in legend.\n"
     ]
    },
    {
     "data": {
      "image/png": "[encoded data removed]",
      "text/plain": [
       "<Figure size 576x576 with 1 Axes>"
      ]
     },
     "metadata": {
      "needs_background": "light"
     },
     "output_type": "display_data"
    }
   ],
   "source": [
    "#Epoch-14\n",
    "# Plot the results\n",
    "for i, (data, tour) in enumerate(zip(pdp_cap_make_dataset, tours)):\n",
    "    fig, ax = plt.subplots(figsize=(8, 8))\n",
    "    plot_vehicle_routes(data, tour, ax, visualize_demands=False, demand_scale=1, round_demand=False)\n",
    "    #fig.savefig(os.path.join('images', 'pdp_cap_{}.png'.format(i)))"
   ]
  },
  {
   "cell_type": "code",
   "execution_count": null,
   "metadata": {
    "id": "OqxFQwPoCe6A"
   },
   "outputs": [],
   "source": []
  },
  {
   "cell_type": "code",
   "execution_count": null,
   "metadata": {
    "id": "fz4TTyYGCeuR"
   },
   "outputs": [],
   "source": []
  },
  {
   "cell_type": "code",
   "execution_count": null,
   "metadata": {
    "colab": {
     "base_uri": "https://localhost:8080/",
     "height": 517
    },
    "id": "Blw35h2mliJP",
    "outputId": "ab3ed9a6-0696-4ff5-ea8f-b9180e107277"
   },
   "outputs": [
    {
     "name": "stderr",
     "output_type": "stream",
     "text": [
      "No handles with labels found to put in legend.\n"
     ]
    },
    {
     "data": {
      "image/png": "[encoded data removed]",
      "text/plain": [
       "<Figure size 576x576 with 1 Axes>"
      ]
     },
     "metadata": {
      "needs_background": "light"
     },
     "output_type": "display_data"
    }
   ],
   "source": [
    "# Plot the results\n",
    "for i, (data, tour) in enumerate(zip(pdp_cap_make_dataset, tours)):\n",
    "    fig, ax = plt.subplots(figsize=(8, 8))\n",
    "    plot_vehicle_routes(data, tour, ax, visualize_demands=False, demand_scale=1, round_demand=False)\n",
    "    # fig.savefig(os.path.join('images', 'cvrp_{}.png'.format(i)))"
   ]
  },
  {
   "cell_type": "code",
   "execution_count": null,
   "metadata": {
    "colab": {
     "base_uri": "https://localhost:8080/"
    },
    "id": "SJa9s0oru7Yx",
    "outputId": "16a155f7-4799-4eea-df6d-aab60e4908f4"
   },
   "outputs": [
    {
     "data": {
      "text/plain": [
       "tensor([ 0.0354,  0.0309,  0.0242,  0.0431,  0.0279, -0.0354, -0.0309, -0.0242,\n",
       "        -0.0431, -0.0279])"
      ]
     },
     "execution_count": 18,
     "metadata": {},
     "output_type": "execute_result"
    }
   ],
   "source": [
    "pdp_cap_make_dataset[0]['demand']"
   ]
  },
  {
   "cell_type": "code",
   "execution_count": null,
   "metadata": {
    "colab": {
     "base_uri": "https://localhost:8080/"
    },
    "id": "P4pSdUNHlLI3",
    "outputId": "cf15bdf5-807f-40ab-eb6f-44c222abe5ca"
   },
   "outputs": [
    {
     "data": {
      "text/plain": [
       "tensor([ 0,  4,  9,  2,  1,  5,  3,  7,  8,  6, 10])"
      ]
     },
     "execution_count": 26,
     "metadata": {},
     "output_type": "execute_result"
    }
   ],
   "source": [
    "tours[0]"
   ]
  },
  {
   "cell_type": "code",
   "execution_count": null,
   "metadata": {
    "id": "k5vr21crbQo-"
   },
   "outputs": [],
   "source": [
    "model, _ = load_model('pretrained/cvrp_100/')\n",
    "torch.manual_seed(1234)\n",
    "dataset = CVRP.make_dataset(size=100, num_samples=10)"
   ]
  },
  {
   "cell_type": "code",
   "execution_count": null,
   "metadata": {
    "id": "oGtUb1AebQlj"
   },
   "outputs": [],
   "source": []
  },
  {
   "cell_type": "code",
   "execution_count": null,
   "metadata": {
    "id": "Kvx6oKUobQir"
   },
   "outputs": [],
   "source": []
  },
  {
   "cell_type": "code",
   "execution_count": null,
   "metadata": {
    "id": "n9DMZvkBbQct"
   },
   "outputs": [],
   "source": []
  },
  {
   "cell_type": "code",
   "execution_count": null,
   "metadata": {
    "id": "YmrNk76eXlKE"
   },
   "outputs": [],
   "source": []
  },
  {
   "cell_type": "code",
   "execution_count": null,
   "metadata": {
    "id": "7q8Q-PxLdOay"
   },
   "outputs": [],
   "source": []
  },
  {
   "cell_type": "code",
   "execution_count": null,
   "metadata": {
    "id": "oOFYdKP5dOTc"
   },
   "outputs": [],
   "source": []
  },
  {
   "cell_type": "code",
   "execution_count": null,
   "metadata": {
    "id": "Fu6rl3UxdOLm"
   },
   "outputs": [],
   "source": []
  },
  {
   "cell_type": "code",
   "execution_count": null,
   "metadata": {
    "id": "gyBFrlCuXLkI"
   },
   "outputs": [],
   "source": [
    "import torch"
   ]
  },
  {
   "cell_type": "code",
   "execution_count": null,
   "metadata": {
    "id": "a59G85qqW8Zn"
   },
   "outputs": [],
   "source": [
    "graph_size = 20 #Total number of nodes excluding the depot in each graph\n",
    "batch_size = 512  #Number of graphs to be sent together for \\\n",
    "                  #one optimisation cycle (cumulative gradient will\\\n",
    "                  # be computed across 512 graphs)\n",
    "num_batch_per_epoch = 2500\n",
    "num_samples = num_batch_per_epoch*batch_size\n",
    "                        # total number of graphs created for each\\\n",
    "                        # epoch, after each epoch baseline\\\n",
    "                        # might be updated\n",
    "\n",
    "#This is the entire dataset for a single epoch , containing #num_samples of graphs , each graph having \n",
    "      # graph_size nodes/ location (which will be further split into 10 pickup and 10 drop locations - 10 orders)\n",
    "      # plus one node for depot\n",
    "      # n order => graph_size = 2*n\n",
    "#This process is repeated / \"entirely new datasets\" for each epoch\n",
    "#One graph is only used once while training"
   ]
  },
  {
   "cell_type": "code",
   "execution_count": null,
   "metadata": {
    "id": "CUk1x5N-pqXJ"
   },
   "outputs": [],
   "source": [
    "#Some features that need to be added:\n",
    "# - multiple orders at same node. "
   ]
  },
  {
   "cell_type": "code",
   "execution_count": null,
   "metadata": {
    "id": "A0OeELbbtja-"
   },
   "outputs": [],
   "source": [
    "#Making a capacitated PDP Dataset\n",
    "from torch.utils.data import Dataset\n",
    "class PDP_cap_Dataset(Dataset):\n",
    "\n",
    "    def __init__(self, filename=None, size=50, num_samples=1000000, offset=0, distribution=None):\n",
    "        super(PDP_cap_Dataset, self).__init__()\n",
    "\n",
    "        self.data_set = []\n",
    "        if filename is not None:\n",
    "            assert os.path.splitext(filename)[1] == '.pkl'\n",
    "\n",
    "            with open(filename, 'rb') as f:\n",
    "                data = pickle.load(f)\n",
    "            self.data = [make_instance(args) for args in data[offset:offset+num_samples]]\n",
    "\n",
    "        else:\n",
    "\n",
    "              # # From VRP with RL paper https://arxiv.org/abs/1802.04240\n",
    "              # CAPACITIES = {\n",
    "              #     10: 20.,\n",
    "              #     20: 30.,\n",
    "              #     50: 40.,\n",
    "              #     100: 50.\n",
    "              # }         #For adjusting the average number of orders that can be loaded on the resource at a time\n",
    "\n",
    "            #Any information required for the vehicle capacity?\n",
    "            #Should interim_demand be accessible as a class attribute?\n",
    "            #If needed, the vehicle could carry all of them at once.\n",
    "            interim_demand = (torch.FloatTensor(size//2).uniform_(0, 1))\n",
    "            self.data = [\n",
    "                {\n",
    "                    # Why not across [-1, 1]?\n",
    "                    #'loc' refers to the initial location of the resource\n",
    "                    'loc': torch.FloatTensor([[0.1, 0.1], [0.1, 0.1],\\\n",
    "                                              [0.5, 0.1], [0.9, 0.9],\\\n",
    "                                              [0.2, 0.2], [0.1, 0.1],\\\n",
    "                                              [0.75, 0.6], [0.8, 0.8],\\\n",
    "                                              [0.45, 0.45], [0.7, 0.7]\n",
    "                                              ]),\n",
    "                    'depot': torch.FloatTensor([0.1, 0.1]),\n",
    "                    #Vehicle capacity shall be 1 and demands in Uniform (0, 1)\n",
    "                    #Interaction between number of nodes, size range of each node, resource capacity to load \n",
    "                          #ratio etc\n",
    "                    #---Demand of second-half should be negative of the first half\n",
    "                    'demand': torch.cat((interim_demand, torch.neg(interim_demand)), -1 )    #Setting avg number of loadable orders at a time\n",
    "                }\n",
    "                for i in range(num_samples)\n",
    "            ]\n",
    "\n",
    "        self.size = len(self.data)\n",
    "\n",
    "    def __len__(self):\n",
    "        return self.size\n",
    "\n",
    "    def __getitem__(self, idx):\n",
    "        return self.data[idx]"
   ]
  },
  {
   "cell_type": "code",
   "execution_count": null,
   "metadata": {
    "id": "BOlN78f5ez7Y"
   },
   "outputs": [],
   "source": []
  },
  {
   "cell_type": "code",
   "execution_count": null,
   "metadata": {
    "id": "OrAxZZj6ez3d"
   },
   "outputs": [],
   "source": []
  },
  {
   "cell_type": "code",
   "execution_count": null,
   "metadata": {
    "id": "yxRoPjxnez0w"
   },
   "outputs": [],
   "source": []
  },
  {
   "cell_type": "code",
   "execution_count": null,
   "metadata": {
    "id": "pnxe8iD0ezxl"
   },
   "outputs": [],
   "source": []
  },
  {
   "cell_type": "code",
   "execution_count": null,
   "metadata": {
    "id": "ibMQ2KHbezuj"
   },
   "outputs": [],
   "source": []
  },
  {
   "cell_type": "code",
   "execution_count": null,
   "metadata": {
    "id": "mnnIzigrezrL"
   },
   "outputs": [],
   "source": []
  },
  {
   "cell_type": "code",
   "execution_count": null,
   "metadata": {
    "id": "sY4kkayYezoB"
   },
   "outputs": [],
   "source": []
  },
  {
   "cell_type": "code",
   "execution_count": null,
   "metadata": {
    "id": "NyjMwd3JjLwO"
   },
   "outputs": [],
   "source": [
    "#Making a capacitated PDP Dataset\n",
    "from torch.utils.data import Dataset\n",
    "class PDP_cap_Dataset(Dataset):\n",
    "\n",
    "    def __init__(self, filename=None, size=50, num_samples=1000000, offset=0, distribution=None):\n",
    "        super(PDP_cap_Dataset, self).__init__()\n",
    "\n",
    "        self.data_set = []\n",
    "        if filename is not None:\n",
    "            assert os.path.splitext(filename)[1] == '.pkl'\n",
    "\n",
    "            with open(filename, 'rb') as f:\n",
    "                data = pickle.load(f)\n",
    "            self.data = [make_instance(args) for args in data[offset:offset+num_samples]]\n",
    "\n",
    "        else:\n",
    "\n",
    "              # # From VRP with RL paper https://arxiv.org/abs/1802.04240\n",
    "              # CAPACITIES = {\n",
    "              #     10: 20.,\n",
    "              #     20: 30.,\n",
    "              #     50: 40.,\n",
    "              #     100: 50.\n",
    "              # }         #For adjusting the average number of orders that can be loaded on the resource at a time\n",
    "\n",
    "            #Any information required for the vehicle capacity?\n",
    "            #Should interim_demand be accessible as a class attribute?\n",
    "            #If needed, the vehicle could carry all of them at once.\n",
    "            interim_demand = (torch.FloatTensor(size//2).uniform_(0, 1))/size/2\n",
    "            self.data = [\n",
    "                {\n",
    "                    # Why not across [-1, 1]?\n",
    "                    #'loc' refers to the initial location of the resource\n",
    "                    'loc': torch.FloatTensor(size, 2).uniform_(0, 1),\n",
    "                    'depot': torch.FloatTensor(2).uniform_(0, 1),\n",
    "                    #Vehicle capacity shall be 1 and demands in Uniform (0, 1)\n",
    "                    #Interaction between number of nodes, size range of each node, resource capacity to load \n",
    "                          #ratio etc\n",
    "                    #---Demand of second-half should be negative of the first half\n",
    "                    'demand': torch.cat((interim_demand, torch.neg(interim_demand)), -1 )    #Setting avg number of loadable orders at a time\n",
    "                }\n",
    "                for i in range(num_samples)\n",
    "            ]\n",
    "\n",
    "        self.size = len(self.data)\n",
    "\n",
    "    def __len__(self):\n",
    "        return self.size\n",
    "\n",
    "    def __getitem__(self, idx):\n",
    "        return self.data[idx]"
   ]
  },
  {
   "cell_type": "code",
   "execution_count": null,
   "metadata": {
    "id": "L72QZ88wmhTA"
   },
   "outputs": [],
   "source": [
    "pdp_cap_make_dataset= PDP_cap_Dataset(size=graph_size, num_samples=num_samples)"
   ]
  },
  {
   "cell_type": "code",
   "execution_count": null,
   "metadata": {
    "colab": {
     "base_uri": "https://localhost:8080/"
    },
    "id": "ZkCuaw7rBHe_",
    "outputId": "5465037f-79b0-47f3-ef37-f7287d0fec93"
   },
   "outputs": [
    {
     "data": {
      "text/plain": [
       "1280000"
      ]
     },
     "execution_count": 11,
     "metadata": {},
     "output_type": "execute_result"
    }
   ],
   "source": [
    "len(pdp_cap_make_dataset)"
   ]
  },
  {
   "cell_type": "code",
   "execution_count": null,
   "metadata": {
    "colab": {
     "base_uri": "https://localhost:8080/"
    },
    "id": "LHuDs8qNp42i",
    "outputId": "6e03477b-ce9f-48af-d766-e62643f222be"
   },
   "outputs": [
    {
     "data": {
      "text/plain": [
       "20"
      ]
     },
     "execution_count": 12,
     "metadata": {},
     "output_type": "execute_result"
    }
   ],
   "source": [
    "len(pdp_cap_make_dataset[0]['loc'])"
   ]
  },
  {
   "cell_type": "code",
   "execution_count": null,
   "metadata": {
    "id": "Zf-U_yVjihWf"
   },
   "outputs": [],
   "source": [
    "# the exact need for clubbing together the baseline score and dataset\n",
    "class BaselineDataset(Dataset):\n",
    "\n",
    "    def __init__(self, dataset=None, baseline=None):\n",
    "        super(BaselineDataset, self).__init__()\n",
    "\n",
    "        self.dataset = dataset\n",
    "        self.baseline = baseline\n",
    "        assert (len(self.dataset) == len(self.baseline))\n",
    "\n",
    "    def __getitem__(self, item):\n",
    "        return {\n",
    "            'data': self.dataset[item],\n",
    "            'baseline': self.baseline[item]\n",
    "        }\n",
    "\n",
    "    def __len__(self):\n",
    "        return len(self.dataset)"
   ]
  },
  {
   "cell_type": "code",
   "execution_count": null,
   "metadata": {
    "id": "T1Z1rpBajqGe"
   },
   "outputs": [],
   "source": [
    "training_dataset = BaselineDataset(pdp_cap_make_dataset,\\\n",
    "                                   torch.ones(len(pdp_cap_make_dataset)))"
   ]
  },
  {
   "cell_type": "code",
   "execution_count": null,
   "metadata": {
    "colab": {
     "base_uri": "https://localhost:8080/"
    },
    "id": "C_WwxDXJn02y",
    "outputId": "600f8417-5c72-4e6e-8f1c-08b0e167e814"
   },
   "outputs": [
    {
     "data": {
      "text/plain": [
       "tensor(1.)"
      ]
     },
     "execution_count": 19,
     "metadata": {},
     "output_type": "execute_result"
    }
   ],
   "source": [
    "training_dataset[0]"
   ]
  },
  {
   "cell_type": "code",
   "execution_count": null,
   "metadata": {
    "id": "3CEFEGWgitOO"
   },
   "outputs": [],
   "source": [
    "from torch.utils.data import DataLoader\n",
    "training_dataloader = DataLoader(training_dataset, batch_size=512, num_workers=1)"
   ]
  },
  {
   "cell_type": "code",
   "execution_count": null,
   "metadata": {
    "colab": {
     "base_uri": "https://localhost:8080/"
    },
    "id": "lR5YDM71jztu",
    "outputId": "478171b0-4e6c-4eda-86b7-c0e5df1d6858"
   },
   "outputs": [
    {
     "data": {
      "text/plain": [
       "{'baseline': tensor([1., 1., 1., 1., 1., 1., 1., 1., 1., 1., 1., 1., 1., 1., 1., 1., 1., 1.,\n",
       "         1., 1., 1., 1., 1., 1., 1., 1., 1., 1., 1., 1., 1., 1., 1., 1., 1., 1.,\n",
       "         1., 1., 1., 1., 1., 1., 1., 1., 1., 1., 1., 1., 1., 1., 1., 1., 1., 1.,\n",
       "         1., 1., 1., 1., 1., 1., 1., 1., 1., 1., 1., 1., 1., 1., 1., 1., 1., 1.,\n",
       "         1., 1., 1., 1., 1., 1., 1., 1., 1., 1., 1., 1., 1., 1., 1., 1., 1., 1.,\n",
       "         1., 1., 1., 1., 1., 1., 1., 1., 1., 1., 1., 1., 1., 1., 1., 1., 1., 1.,\n",
       "         1., 1., 1., 1., 1., 1., 1., 1., 1., 1., 1., 1., 1., 1., 1., 1., 1., 1.,\n",
       "         1., 1., 1., 1., 1., 1., 1., 1., 1., 1., 1., 1., 1., 1., 1., 1., 1., 1.,\n",
       "         1., 1., 1., 1., 1., 1., 1., 1., 1., 1., 1., 1., 1., 1., 1., 1., 1., 1.,\n",
       "         1., 1., 1., 1., 1., 1., 1., 1., 1., 1., 1., 1., 1., 1., 1., 1., 1., 1.,\n",
       "         1., 1., 1., 1., 1., 1., 1., 1., 1., 1., 1., 1., 1., 1., 1., 1., 1., 1.,\n",
       "         1., 1., 1., 1., 1., 1., 1., 1., 1., 1., 1., 1., 1., 1., 1., 1., 1., 1.,\n",
       "         1., 1., 1., 1., 1., 1., 1., 1., 1., 1., 1., 1., 1., 1., 1., 1., 1., 1.,\n",
       "         1., 1., 1., 1., 1., 1., 1., 1., 1., 1., 1., 1., 1., 1., 1., 1., 1., 1.,\n",
       "         1., 1., 1., 1., 1., 1., 1., 1., 1., 1., 1., 1., 1., 1., 1., 1., 1., 1.,\n",
       "         1., 1., 1., 1., 1., 1., 1., 1., 1., 1., 1., 1., 1., 1., 1., 1., 1., 1.,\n",
       "         1., 1., 1., 1., 1., 1., 1., 1., 1., 1., 1., 1., 1., 1., 1., 1., 1., 1.,\n",
       "         1., 1., 1., 1., 1., 1., 1., 1., 1., 1., 1., 1., 1., 1., 1., 1., 1., 1.,\n",
       "         1., 1., 1., 1., 1., 1., 1., 1., 1., 1., 1., 1., 1., 1., 1., 1., 1., 1.,\n",
       "         1., 1., 1., 1., 1., 1., 1., 1., 1., 1., 1., 1., 1., 1., 1., 1., 1., 1.,\n",
       "         1., 1., 1., 1., 1., 1., 1., 1., 1., 1., 1., 1., 1., 1., 1., 1., 1., 1.,\n",
       "         1., 1., 1., 1., 1., 1., 1., 1., 1., 1., 1., 1., 1., 1., 1., 1., 1., 1.,\n",
       "         1., 1., 1., 1., 1., 1., 1., 1., 1., 1., 1., 1., 1., 1., 1., 1., 1., 1.,\n",
       "         1., 1., 1., 1., 1., 1., 1., 1., 1., 1., 1., 1., 1., 1., 1., 1., 1., 1.,\n",
       "         1., 1., 1., 1., 1., 1., 1., 1., 1., 1., 1., 1., 1., 1., 1., 1., 1., 1.,\n",
       "         1., 1., 1., 1., 1., 1., 1., 1., 1., 1., 1., 1., 1., 1., 1., 1., 1., 1.,\n",
       "         1., 1., 1., 1., 1., 1., 1., 1., 1., 1., 1., 1., 1., 1., 1., 1., 1., 1.,\n",
       "         1., 1., 1., 1., 1., 1., 1., 1., 1., 1., 1., 1., 1., 1., 1., 1., 1., 1.,\n",
       "         1., 1., 1., 1., 1., 1., 1., 1.]),\n",
       " 'data': {'demand': tensor([[ 0.0227,  0.0178,  0.0174,  ..., -0.0156, -0.0072, -0.0246],\n",
       "          [ 0.0227,  0.0178,  0.0174,  ..., -0.0156, -0.0072, -0.0246],\n",
       "          [ 0.0227,  0.0178,  0.0174,  ..., -0.0156, -0.0072, -0.0246],\n",
       "          ...,\n",
       "          [ 0.0227,  0.0178,  0.0174,  ..., -0.0156, -0.0072, -0.0246],\n",
       "          [ 0.0227,  0.0178,  0.0174,  ..., -0.0156, -0.0072, -0.0246],\n",
       "          [ 0.0227,  0.0178,  0.0174,  ..., -0.0156, -0.0072, -0.0246]]),\n",
       "  'depot': tensor([[0.5382, 0.4676],\n",
       "          [0.8666, 0.7712],\n",
       "          [0.1942, 0.0534],\n",
       "          ...,\n",
       "          [0.3280, 0.7075],\n",
       "          [0.4642, 0.9662],\n",
       "          [0.5452, 0.9280]]),\n",
       "  'loc': tensor([[[8.1936e-01, 6.7288e-01],\n",
       "           [1.1431e-01, 4.8041e-01],\n",
       "           [3.3085e-01, 9.8074e-01],\n",
       "           ...,\n",
       "           [6.2029e-01, 2.4595e-01],\n",
       "           [1.1365e-01, 1.0220e-01],\n",
       "           [7.3296e-01, 5.3667e-01]],\n",
       "  \n",
       "          [[2.0431e-01, 3.0129e-01],\n",
       "           [7.3362e-01, 7.1267e-01],\n",
       "           [9.9762e-01, 7.5797e-01],\n",
       "           ...,\n",
       "           [3.5202e-01, 2.4556e-01],\n",
       "           [3.3395e-01, 3.3140e-01],\n",
       "           [5.5650e-01, 3.8079e-01]],\n",
       "  \n",
       "          [[3.2644e-01, 2.0657e-03],\n",
       "           [3.6916e-01, 1.7576e-01],\n",
       "           [6.0159e-01, 4.1461e-01],\n",
       "           ...,\n",
       "           [7.1579e-01, 1.7747e-01],\n",
       "           [1.5376e-01, 1.8568e-01],\n",
       "           [9.5446e-01, 6.1579e-02]],\n",
       "  \n",
       "          ...,\n",
       "  \n",
       "          [[4.1736e-01, 9.2857e-01],\n",
       "           [8.4741e-01, 1.9413e-01],\n",
       "           [1.4464e-01, 9.4685e-01],\n",
       "           ...,\n",
       "           [2.2346e-02, 9.7973e-01],\n",
       "           [9.4673e-02, 2.1324e-01],\n",
       "           [3.5624e-01, 1.7594e-01]],\n",
       "  \n",
       "          [[6.6191e-04, 2.3749e-02],\n",
       "           [8.3504e-01, 1.1902e-01],\n",
       "           [6.9754e-02, 9.7194e-01],\n",
       "           ...,\n",
       "           [7.4742e-02, 2.0186e-01],\n",
       "           [9.6851e-01, 5.9796e-01],\n",
       "           [7.8387e-01, 8.6292e-01]],\n",
       "  \n",
       "          [[4.1540e-01, 5.5443e-01],\n",
       "           [6.5094e-01, 7.0514e-01],\n",
       "           [2.8674e-01, 6.7753e-01],\n",
       "           ...,\n",
       "           [3.1316e-01, 6.7437e-01],\n",
       "           [1.4829e-01, 6.9652e-01],\n",
       "           [9.3805e-01, 6.2673e-01]]])}}"
      ]
     },
     "execution_count": 34,
     "metadata": {},
     "output_type": "execute_result"
    }
   ],
   "source": [
    "#training_dataset[0:2]\n",
    "\n",
    "#This is one-batch (To observe that the depots for all the 5 instances have been clubbed together as opposed \n",
    "#to the nature of data above for dset[0:2])\n",
    "#type(training_dataloader)\n",
    "batch = iter(training_dataloader).next()\n",
    "batch"
   ]
  },
  {
   "cell_type": "code",
   "execution_count": null,
   "metadata": {
    "colab": {
     "base_uri": "https://localhost:8080/"
    },
    "id": "Ma3a2NoZjzRt",
    "outputId": "a598eeb9-10e1-43bb-f95e-3adcfeecb8f7"
   },
   "outputs": [
    {
     "data": {
      "text/plain": [
       "{'demand': tensor([[ 0.0227,  0.0178,  0.0174,  ..., -0.0156, -0.0072, -0.0246],\n",
       "         [ 0.0227,  0.0178,  0.0174,  ..., -0.0156, -0.0072, -0.0246],\n",
       "         [ 0.0227,  0.0178,  0.0174,  ..., -0.0156, -0.0072, -0.0246],\n",
       "         ...,\n",
       "         [ 0.0227,  0.0178,  0.0174,  ..., -0.0156, -0.0072, -0.0246],\n",
       "         [ 0.0227,  0.0178,  0.0174,  ..., -0.0156, -0.0072, -0.0246],\n",
       "         [ 0.0227,  0.0178,  0.0174,  ..., -0.0156, -0.0072, -0.0246]]),\n",
       " 'depot': tensor([[0.5382, 0.4676],\n",
       "         [0.8666, 0.7712],\n",
       "         [0.1942, 0.0534],\n",
       "         ...,\n",
       "         [0.3280, 0.7075],\n",
       "         [0.4642, 0.9662],\n",
       "         [0.5452, 0.9280]]),\n",
       " 'loc': tensor([[[8.1936e-01, 6.7288e-01],\n",
       "          [1.1431e-01, 4.8041e-01],\n",
       "          [3.3085e-01, 9.8074e-01],\n",
       "          ...,\n",
       "          [6.2029e-01, 2.4595e-01],\n",
       "          [1.1365e-01, 1.0220e-01],\n",
       "          [7.3296e-01, 5.3667e-01]],\n",
       " \n",
       "         [[2.0431e-01, 3.0129e-01],\n",
       "          [7.3362e-01, 7.1267e-01],\n",
       "          [9.9762e-01, 7.5797e-01],\n",
       "          ...,\n",
       "          [3.5202e-01, 2.4556e-01],\n",
       "          [3.3395e-01, 3.3140e-01],\n",
       "          [5.5650e-01, 3.8079e-01]],\n",
       " \n",
       "         [[3.2644e-01, 2.0657e-03],\n",
       "          [3.6916e-01, 1.7576e-01],\n",
       "          [6.0159e-01, 4.1461e-01],\n",
       "          ...,\n",
       "          [7.1579e-01, 1.7747e-01],\n",
       "          [1.5376e-01, 1.8568e-01],\n",
       "          [9.5446e-01, 6.1579e-02]],\n",
       " \n",
       "         ...,\n",
       " \n",
       "         [[4.1736e-01, 9.2857e-01],\n",
       "          [8.4741e-01, 1.9413e-01],\n",
       "          [1.4464e-01, 9.4685e-01],\n",
       "          ...,\n",
       "          [2.2346e-02, 9.7973e-01],\n",
       "          [9.4673e-02, 2.1324e-01],\n",
       "          [3.5624e-01, 1.7594e-01]],\n",
       " \n",
       "         [[6.6191e-04, 2.3749e-02],\n",
       "          [8.3504e-01, 1.1902e-01],\n",
       "          [6.9754e-02, 9.7194e-01],\n",
       "          ...,\n",
       "          [7.4742e-02, 2.0186e-01],\n",
       "          [9.6851e-01, 5.9796e-01],\n",
       "          [7.8387e-01, 8.6292e-01]],\n",
       " \n",
       "         [[4.1540e-01, 5.5443e-01],\n",
       "          [6.5094e-01, 7.0514e-01],\n",
       "          [2.8674e-01, 6.7753e-01],\n",
       "          ...,\n",
       "          [3.1316e-01, 6.7437e-01],\n",
       "          [1.4829e-01, 6.9652e-01],\n",
       "          [9.3805e-01, 6.2673e-01]]])}"
      ]
     },
     "execution_count": 35,
     "metadata": {},
     "output_type": "execute_result"
    }
   ],
   "source": [
    "input = batch['data']\n",
    "input"
   ]
  },
  {
   "cell_type": "code",
   "execution_count": null,
   "metadata": {
    "colab": {
     "base_uri": "https://localhost:8080/"
    },
    "id": "IF7zdg5knWmv",
    "outputId": "9010eaf7-3533-484f-e038-0a0f3a594601"
   },
   "outputs": [
    {
     "data": {
      "text/plain": [
       "torch.Size([512, 2])"
      ]
     },
     "execution_count": 24,
     "metadata": {},
     "output_type": "execute_result"
    }
   ],
   "source": [
    "input['depot'].size()"
   ]
  },
  {
   "cell_type": "code",
   "execution_count": null,
   "metadata": {
    "colab": {
     "base_uri": "https://localhost:8080/"
    },
    "id": "-VSCx5iotBxj",
    "outputId": "7388b66e-c318-4a85-a65d-5eff04b8d7d5"
   },
   "outputs": [
    {
     "data": {
      "text/plain": [
       "torch.Size([512, 20, 2])"
      ]
     },
     "execution_count": 25,
     "metadata": {},
     "output_type": "execute_result"
    }
   ],
   "source": [
    "input['loc'].size()"
   ]
  },
  {
   "cell_type": "code",
   "execution_count": null,
   "metadata": {
    "colab": {
     "base_uri": "https://localhost:8080/"
    },
    "id": "ai0rCbmICLGb",
    "outputId": "6019e323-61db-455b-99cb-b6638c148d46"
   },
   "outputs": [
    {
     "data": {
      "text/plain": [
       "torch.Size([512, 20])"
      ]
     },
     "execution_count": 26,
     "metadata": {},
     "output_type": "execute_result"
    }
   ],
   "source": [
    "input['demand'].size()"
   ]
  },
  {
   "cell_type": "code",
   "execution_count": null,
   "metadata": {
    "colab": {
     "base_uri": "https://localhost:8080/"
    },
    "id": "nV88bXV3CZLg",
    "outputId": "3dd8a1de-3c2b-48ef-afb5-8c004be09cff"
   },
   "outputs": [
    {
     "data": {
      "text/plain": [
       "tensor([ 0.0006,  0.0007,  0.0002,  0.0036,  0.0051,  0.0049,  0.0043,  0.0184,\n",
       "         0.0112,  0.0108, -0.0006, -0.0007, -0.0002, -0.0036, -0.0051, -0.0049,\n",
       "        -0.0043, -0.0184, -0.0112, -0.0108])"
      ]
     },
     "execution_count": 27,
     "metadata": {},
     "output_type": "execute_result"
    }
   ],
   "source": [
    "input['demand'][0]"
   ]
  },
  {
   "cell_type": "code",
   "execution_count": null,
   "metadata": {
    "id": "nkwVAeKMAxx6"
   },
   "outputs": [],
   "source": [
    "import sys\n",
    "sys.path.append('/content/Heterogeneous-Attentions-PDP-DRL')"
   ]
  },
  {
   "cell_type": "code",
   "execution_count": null,
   "metadata": {
    "id": "mkcH3N5bAcWv"
   },
   "outputs": [],
   "source": [
    "from nets.attention_model import AttentionModel"
   ]
  },
  {
   "cell_type": "code",
   "execution_count": null,
   "metadata": {
    "id": "iz7eIpU1AcTO"
   },
   "outputs": [],
   "source": [
    "from problems import PDP_cap"
   ]
  },
  {
   "cell_type": "code",
   "execution_count": null,
   "metadata": {
    "id": "JFtzCXykAcPs"
   },
   "outputs": [],
   "source": [
    "at_model = AttentionModel(128, 128, PDP_cap)"
   ]
  },
  {
   "cell_type": "code",
   "execution_count": null,
   "metadata": {
    "colab": {
     "base_uri": "https://localhost:8080/"
    },
    "id": "YNCBN26KAcMd",
    "outputId": "565701e2-82c7-4ccf-92b6-eeae2adee178"
   },
   "outputs": [
    {
     "name": "stdout",
     "output_type": "stream",
     "text": [
      "number of nodes is 20\n",
      "depot embedding has size torch.Size([512, 1, 128])\n"
     ]
    }
   ],
   "source": [
    "#---  embeddings, _ = self.embedder(self._init_embed(input))  ---#\n",
    "\n",
    "#---  def _init_embed(self, input):   ---#\n",
    "\n",
    "n_loc = input['loc'].size(1)\n",
    "print(f\"number of nodes is {n_loc}\") #Number of nodes in each graph_dataset\n",
    "\n",
    "#embed_depot = at_mod.init_embed_depot(input['depot'][:, None, :]) also works?\n",
    "embed_depot = at_model.init_embed_depot(input['depot'])[:, None, :]\n",
    "print(f\"depot embedding has size {embed_depot.size()}\")"
   ]
  },
  {
   "cell_type": "code",
   "execution_count": null,
   "metadata": {
    "colab": {
     "base_uri": "https://localhost:8080/"
    },
    "id": "GO3nBfpDAcI4",
    "outputId": "f03740b5-e7b1-4df8-b782-3957b7512923"
   },
   "outputs": [
    {
     "name": "stdout",
     "output_type": "stream",
     "text": [
      "pickup features has size torch.Size([512, 10, 6])\n",
      "delivery features has size torch.Size([512, 10, 3])\n"
     ]
    }
   ],
   "source": [
    "# [batch_size, graph_size//2, 6] loc\n",
    "# Check for compatibity for input['demand'][:, :n_loc // 2, :] // Is this what we want?\n",
    "feature_pickup = torch.cat([input['loc'][:, :n_loc // 2, :], input['demand'][:, :n_loc // 2, None], \\\n",
    "                            input['loc'][:, n_loc // 2:, :], input['demand'][:, n_loc // 2:, None]], -1)\n",
    "# [batch_size, graph_size//2, 3] loc\n",
    "feature_delivery = torch.cat([input['loc'][:, n_loc // 2:, :], input['demand'][:, n_loc // 2:, None]], -1)  # [batch_size, graph_size//2, 3]\n",
    "\n",
    "print(f\"pickup features has size {feature_pickup.size()}\")\n",
    "print(f\"delivery features has size {feature_delivery.size()}\")"
   ]
  },
  {
   "cell_type": "code",
   "execution_count": null,
   "metadata": {
    "colab": {
     "base_uri": "https://localhost:8080/"
    },
    "id": "YpNWXjyYAcFl",
    "outputId": "a21bf71a-cdbd-4e4e-a526-46199af3e626"
   },
   "outputs": [
    {
     "name": "stdout",
     "output_type": "stream",
     "text": [
      "pickup embeddings has size torch.Size([512, 10, 128])\n",
      "delivery embeddings has size torch.Size([512, 10, 128])\n"
     ]
    }
   ],
   "source": [
    "embed_pick = at_model.init_embed_pick(feature_pickup)\n",
    "embed_delivery = at_model.init_embed_delivery(feature_delivery)\n",
    "\n",
    "print(f\"pickup embeddings has size {embed_pick.size()}\")\n",
    "print(f\"delivery embeddings has size {embed_delivery.size()}\")"
   ]
  },
  {
   "cell_type": "code",
   "execution_count": null,
   "metadata": {
    "colab": {
     "base_uri": "https://localhost:8080/"
    },
    "id": "Pf-WSLzCAcBJ",
    "outputId": "48cc0326-df61-4613-de15-3c4e4155911e"
   },
   "outputs": [
    {
     "name": "stdout",
     "output_type": "stream",
     "text": [
      "encoder input has size torch.Size([512, 21, 128])\n"
     ]
    }
   ],
   "source": [
    "emb_input = torch.cat([embed_depot, embed_pick, embed_delivery], 1) \n",
    "print(f\"encoder input has size {emb_input.size()}\") "
   ]
  },
  {
   "cell_type": "code",
   "execution_count": null,
   "metadata": {
    "id": "JKwAMOTqAb96"
   },
   "outputs": [],
   "source": [
    "#Initialise the encoder part:\n",
    "\n",
    "from nets.graph_encoder import GraphAttentionEncoder"
   ]
  },
  {
   "cell_type": "code",
   "execution_count": null,
   "metadata": {
    "id": "WH8SyCbIhmU5"
   },
   "outputs": [],
   "source": [
    "#---  embeddings, _ = self.embedder(encoder_input)  ---#\n",
    "\n",
    "embedder = GraphAttentionEncoder(\n",
    "    n_heads=8,\n",
    "    embed_dim=128,\n",
    "    n_layers=2,\n",
    "    normalization='batch'\n",
    ")\n",
    "\n",
    "encoder_embeddings, _ = embedder(emb_input)"
   ]
  },
  {
   "cell_type": "code",
   "execution_count": null,
   "metadata": {
    "colab": {
     "base_uri": "https://localhost:8080/"
    },
    "id": "VhCF0ix-hmKC",
    "outputId": "51d87dcd-d3cd-4c37-e461-3102ec1d7488"
   },
   "outputs": [
    {
     "data": {
      "text/plain": [
       "torch.Size([512, 21, 128])"
      ]
     },
     "execution_count": 54,
     "metadata": {},
     "output_type": "execute_result"
    }
   ],
   "source": [
    "encoder_embeddings.size() "
   ]
  },
  {
   "cell_type": "code",
   "execution_count": null,
   "metadata": {
    "id": "I-P6slIJjIc6"
   },
   "outputs": [],
   "source": []
  },
  {
   "cell_type": "markdown",
   "metadata": {
    "id": "Bn30WNYFme0U"
   },
   "source": [
    "def _precompute( ) to get 'fixed' part for the decoder stage"
   ]
  },
  {
   "cell_type": "code",
   "execution_count": null,
   "metadata": {
    "colab": {
     "base_uri": "https://localhost:8080/"
    },
    "id": "JfKox5mzfo4U",
    "outputId": "e0f084bc-6b48-4ab2-aec1-30d24972e694"
   },
   "outputs": [
    {
     "name": "stdout",
     "output_type": "stream",
     "text": [
      "Size of graph embedding is torch.Size([512, 128])\n",
      "Size of fixed_context is torch.Size([512, 1, 128])\n"
     ]
    }
   ],
   "source": [
    "graph_embed = encoder_embeddings.mean(1)\n",
    "print(\"Size of graph embedding is\", graph_embed.size())\n",
    "\n",
    "#Also at_model.project_fixed_context(graph_embed[:, None, :]).size()\n",
    "fixed_context = at_model.project_fixed_context(graph_embed)[:, None, :]\n",
    "print(\"Size of fixed_context is\", fixed_context.size())"
   ]
  },
  {
   "cell_type": "code",
   "execution_count": null,
   "metadata": {
    "id": "pkc5ei1fjIZj"
   },
   "outputs": [],
   "source": []
  },
  {
   "cell_type": "code",
   "execution_count": null,
   "metadata": {
    "id": "EMAETsr7t5F2"
   },
   "outputs": [],
   "source": [
    "glimpse_key_fixed, glimpse_val_fixed, logit_key_fixed = \\\n",
    "    at_model.project_node_embeddings(encoder_embeddings[:, None, :, :]).chunk(3, dim=-1)"
   ]
  },
  {
   "cell_type": "code",
   "execution_count": null,
   "metadata": {
    "id": "qfWVP3EGmZ2H"
   },
   "outputs": [],
   "source": [
    "\n",
    "num_steps=1\n",
    "fixed_attention_node_data = (\n",
    "    at_model._make_heads(glimpse_key_fixed, num_steps),\n",
    "    at_model._make_heads(glimpse_val_fixed, num_steps),\n",
    "    logit_key_fixed.contiguous()\n",
    ")"
   ]
  },
  {
   "cell_type": "code",
   "execution_count": null,
   "metadata": {
    "id": "2PPzlggZvQek"
   },
   "outputs": [],
   "source": [
    "from nets.attention_model import AttentionModelFixed\n",
    "\n",
    "fixed = AttentionModelFixed(encoder_embeddings, fixed_context, *fixed_attention_node_data)"
   ]
  },
  {
   "cell_type": "code",
   "execution_count": null,
   "metadata": {
    "id": "7hbsgPVPjIUQ"
   },
   "outputs": [],
   "source": []
  },
  {
   "cell_type": "code",
   "execution_count": null,
   "metadata": {
    "id": "Ks2SdSEhjIMN"
   },
   "outputs": [],
   "source": []
  },
  {
   "cell_type": "code",
   "execution_count": null,
   "metadata": {
    "id": "gJspaWZm2G_8"
   },
   "outputs": [],
   "source": [
    "#---state = self.problem.make_state(input)  ---#\n",
    "# Understanding state requires understanding the update function!\n",
    "\n",
    "from problems.pdp_cap.state_pdp_cap import StatePDP_cap\n",
    "state = StatePDP_cap.initialize(input)"
   ]
  },
  {
   "cell_type": "code",
   "execution_count": null,
   "metadata": {
    "colab": {
     "base_uri": "https://localhost:8080/"
    },
    "id": "DA7iFatojIDV",
    "outputId": "036962a0-34c6-4805-aa31-7176e5368bc3"
   },
   "outputs": [
    {
     "data": {
      "text/plain": [
       "('coords',\n",
       " 'demand',\n",
       " 'ids',\n",
       " 'prev_a',\n",
       " 'used_capacity',\n",
       " 'visited_',\n",
       " 'lengths',\n",
       " 'cur_coord',\n",
       " 'i',\n",
       " 'to_delivery')"
      ]
     },
     "execution_count": 60,
     "metadata": {},
     "output_type": "execute_result"
    }
   ],
   "source": [
    "state._fields"
   ]
  },
  {
   "cell_type": "code",
   "execution_count": null,
   "metadata": {
    "id": "uSxPX4JEjH6i"
   },
   "outputs": [],
   "source": [
    "outputs = []\n",
    "sequences = []\n",
    "\n",
    "i=0"
   ]
  },
  {
   "cell_type": "code",
   "execution_count": null,
   "metadata": {
    "colab": {
     "base_uri": "https://localhost:8080/"
    },
    "id": "WGn8csn5jHxw",
    "outputId": "07bfaa02-b8a7-4276-d056-1e41b0e1a6c6"
   },
   "outputs": [
    {
     "data": {
      "text/plain": [
       "tensor(0, dtype=torch.uint8)"
      ]
     },
     "execution_count": 62,
     "metadata": {},
     "output_type": "execute_result"
    }
   ],
   "source": [
    "state.all_finished()"
   ]
  },
  {
   "cell_type": "code",
   "execution_count": null,
   "metadata": {
    "colab": {
     "base_uri": "https://localhost:8080/"
    },
    "id": "R7XCTNwX6EIe",
    "outputId": "3470208a-0d58-49e2-a8e7-5406dc106adb"
   },
   "outputs": [
    {
     "data": {
      "text/plain": [
       "torch.Size([512, 1])"
      ]
     },
     "execution_count": 63,
     "metadata": {},
     "output_type": "execute_result"
    }
   ],
   "source": [
    "current_node = state.prev_a\n",
    "current_node.size()"
   ]
  },
  {
   "cell_type": "code",
   "execution_count": null,
   "metadata": {
    "colab": {
     "base_uri": "https://localhost:8080/"
    },
    "id": "XgVb_yW46KGr",
    "outputId": "64671e45-c139-4203-c261-29c039a017cb"
   },
   "outputs": [
    {
     "data": {
      "text/plain": [
       "(512, 1)"
      ]
     },
     "execution_count": 65,
     "metadata": {},
     "output_type": "execute_result"
    }
   ],
   "source": [
    "batch_size, num_steps = current_node.size()\n",
    "batch_size, num_steps"
   ]
  },
  {
   "cell_type": "code",
   "execution_count": null,
   "metadata": {
    "colab": {
     "base_uri": "https://localhost:8080/"
    },
    "id": "_L6kdvk5tcHy",
    "outputId": "cb914cae-9f2e-4d0a-c9ba-2450a47ba36e"
   },
   "outputs": [
    {
     "data": {
      "text/plain": [
       "torch.Size([512, 1, 129])"
      ]
     },
     "execution_count": 67,
     "metadata": {},
     "output_type": "execute_result"
    }
   ],
   "source": [
    "step_context_raw = torch.cat(\n",
    "                    (\n",
    "                        torch.gather(\n",
    "                            fixed.node_embeddings,  # [batch_size, graph_size, embed_dim]\n",
    "                            1,\n",
    "                            current_node.contiguous()\n",
    "                                .view(batch_size, num_steps, 1)\n",
    "                                .expand(batch_size, num_steps, fixed.node_embeddings.size(-1))\n",
    "                        ).view(batch_size, num_steps, fixed.node_embeddings.size(-1)),  # [batch_size, num_steps, embed_dim]\n",
    "                        at_model.problem.VEHICLE_CAPACITY - state.used_capacity[:, :, None]\n",
    "                    ),\n",
    "                    -1\n",
    "                )\n",
    "step_context_raw.size()"
   ]
  },
  {
   "cell_type": "code",
   "execution_count": null,
   "metadata": {
    "colab": {
     "base_uri": "https://localhost:8080/"
    },
    "id": "fLrPfOyFwmh7",
    "outputId": "17e82b03-d7cf-4fce-f17b-14fa18dfc9cf"
   },
   "outputs": [
    {
     "data": {
      "text/plain": [
       "torch.Size([512, 1, 128])"
      ]
     },
     "execution_count": 68,
     "metadata": {},
     "output_type": "execute_result"
    }
   ],
   "source": [
    "step_context = at_model.project_step_context(step_context_raw)\n",
    "step_context.size()"
   ]
  },
  {
   "cell_type": "code",
   "execution_count": null,
   "metadata": {
    "colab": {
     "base_uri": "https://localhost:8080/"
    },
    "id": "TbR7aix_xp3q",
    "outputId": "7c4fd33b-85a7-4684-d428-cb60de3f4663"
   },
   "outputs": [
    {
     "data": {
      "text/plain": [
       "torch.Size([512, 1, 128])"
      ]
     },
     "execution_count": 69,
     "metadata": {},
     "output_type": "execute_result"
    }
   ],
   "source": [
    "fixed.context_node_projected.size()"
   ]
  },
  {
   "cell_type": "code",
   "execution_count": null,
   "metadata": {
    "colab": {
     "base_uri": "https://localhost:8080/"
    },
    "id": "qMY5oD31tb-W",
    "outputId": "478d9c79-2247-4f61-820d-fb2eb9f1a14e"
   },
   "outputs": [
    {
     "data": {
      "text/plain": [
       "torch.Size([512, 1, 128])"
      ]
     },
     "execution_count": 71,
     "metadata": {},
     "output_type": "execute_result"
    }
   ],
   "source": [
    "query = fixed.context_node_projected + step_context\n",
    "query.size()"
   ]
  },
  {
   "cell_type": "code",
   "execution_count": null,
   "metadata": {
    "id": "h8bGHPmJtb1R"
   },
   "outputs": [],
   "source": [
    "glimpse_K, glimpse_V, logit_K = fixed.glimpse_key, fixed.glimpse_val, fixed.logit_key"
   ]
  },
  {
   "cell_type": "code",
   "execution_count": null,
   "metadata": {
    "id": "b8N0HwUz1-Sx"
   },
   "outputs": [],
   "source": []
  },
  {
   "cell_type": "code",
   "execution_count": null,
   "metadata": {
    "colab": {
     "base_uri": "https://localhost:8080/",
     "height": 402
    },
    "id": "UW3Y-7PmtbsZ",
    "outputId": "1010ec4b-11c5-4890-d415-f54d26a73cd8"
   },
   "outputs": [
    {
     "ename": "RuntimeError",
     "evalue": "ignored",
     "output_type": "error",
     "traceback": [
      "\u001b[0;31m---------------------------------------------------------------------------\u001b[0m",
      "\u001b[0;31mRuntimeError\u001b[0m                              Traceback (most recent call last)",
      "\u001b[0;32m<ipython-input-73-151784ed1bd3>\u001b[0m in \u001b[0;36m<module>\u001b[0;34m()\u001b[0m\n\u001b[0;32m----> 1\u001b[0;31m \u001b[0mmask\u001b[0m \u001b[0;34m=\u001b[0m \u001b[0mstate\u001b[0m\u001b[0;34m.\u001b[0m\u001b[0mget_mask\u001b[0m\u001b[0;34m(\u001b[0m\u001b[0;34m)\u001b[0m\u001b[0;34m\u001b[0m\u001b[0;34m\u001b[0m\u001b[0m\n\u001b[0m",
      "\u001b[0;32m/content/Heterogeneous-Attentions-PDP-DRL/problems/pdp_cap/state_pdp_cap.py\u001b[0m in \u001b[0;36mget_mask\u001b[0;34m(self)\u001b[0m\n\u001b[1;32m    167\u001b[0m         \u001b[0;31m# For demand steps_dim is inserted by indexing with id, for used_capacity insert node dim for broadcasting\u001b[0m\u001b[0;34m\u001b[0m\u001b[0;34m\u001b[0m\u001b[0;34m\u001b[0m\u001b[0m\n\u001b[1;32m    168\u001b[0m         \u001b[0mexceeds_cap\u001b[0m \u001b[0;34m=\u001b[0m \u001b[0;34m(\u001b[0m\u001b[0mself\u001b[0m\u001b[0;34m.\u001b[0m\u001b[0mdemand\u001b[0m\u001b[0;34m[\u001b[0m\u001b[0mself\u001b[0m\u001b[0;34m.\u001b[0m\u001b[0mids\u001b[0m\u001b[0;34m,\u001b[0m \u001b[0;34m:\u001b[0m\u001b[0;34m]\u001b[0m \u001b[0;34m+\u001b[0m \u001b[0mself\u001b[0m\u001b[0;34m.\u001b[0m\u001b[0mused_capacity\u001b[0m\u001b[0;34m[\u001b[0m\u001b[0;34m:\u001b[0m\u001b[0;34m,\u001b[0m \u001b[0;34m:\u001b[0m\u001b[0;34m,\u001b[0m \u001b[0;32mNone\u001b[0m\u001b[0;34m]\u001b[0m \u001b[0;34m>\u001b[0m \u001b[0mself\u001b[0m\u001b[0;34m.\u001b[0m\u001b[0mVEHICLE_CAPACITY\u001b[0m\u001b[0;34m)\u001b[0m\u001b[0;34m\u001b[0m\u001b[0;34m\u001b[0m\u001b[0m\n\u001b[0;32m--> 169\u001b[0;31m         \u001b[0;31m# Nodes that cannot be visited are already visited or too much demand to be served now\u001b[0m\u001b[0;34m\u001b[0m\u001b[0;34m\u001b[0m\u001b[0;34m\u001b[0m\u001b[0m\n\u001b[0m\u001b[1;32m    170\u001b[0m         \u001b[0mmask_loc\u001b[0m \u001b[0;34m=\u001b[0m \u001b[0mvisited_loc\u001b[0m\u001b[0;34m.\u001b[0m\u001b[0mto\u001b[0m\u001b[0;34m(\u001b[0m\u001b[0mself\u001b[0m\u001b[0;34m.\u001b[0m\u001b[0mto_delivery\u001b[0m\u001b[0;34m.\u001b[0m\u001b[0mdevice\u001b[0m\u001b[0;34m)\u001b[0m \u001b[0;34m|\u001b[0m \u001b[0;34m(\u001b[0m\u001b[0;36m1\u001b[0m \u001b[0;34m-\u001b[0m \u001b[0mself\u001b[0m\u001b[0;34m.\u001b[0m\u001b[0mto_delivery\u001b[0m\u001b[0;34m)\u001b[0m \u001b[0;34m|\u001b[0m \u001b[0mexceeds_cap\u001b[0m\u001b[0;34m\u001b[0m\u001b[0;34m\u001b[0m\u001b[0m\n\u001b[1;32m    171\u001b[0m \u001b[0;34m\u001b[0m\u001b[0m\n",
      "\u001b[0;31mRuntimeError\u001b[0m: The size of tensor a (21) must match the size of tensor b (20) at non-singleton dimension 2"
     ]
    }
   ],
   "source": [
    "mask = state.get_mask()"
   ]
  },
  {
   "cell_type": "code",
   "execution_count": null,
   "metadata": {
    "colab": {
     "base_uri": "https://localhost:8080/"
    },
    "id": "_GfTijPltbji",
    "outputId": "c54c28cd-87b1-4b35-b2fc-13dab97e32ab"
   },
   "outputs": [
    {
     "data": {
      "text/plain": [
       "torch.Size([512, 1, 20])"
      ]
     },
     "execution_count": 83,
     "metadata": {},
     "output_type": "execute_result"
    }
   ],
   "source": [
    "# To omit the depot node for considering capacity exceeding constraint\n",
    "visited_loc = state.visited_[:, :, 1:]   #Check the size?\n",
    "visited_loc.size()"
   ]
  },
  {
   "cell_type": "code",
   "execution_count": null,
   "metadata": {
    "id": "tqi5BClrjHTt"
   },
   "outputs": [],
   "source": [
    "n_loc = visited_loc.size(-1)   # num of customers\n",
    "batch_size = visited_loc.size(0)"
   ]
  },
  {
   "cell_type": "code",
   "execution_count": null,
   "metadata": {
    "colab": {
     "base_uri": "https://localhost:8080/"
    },
    "id": "7ADNLEnf21oM",
    "outputId": "c9bf36e6-d538-4956-c417-ef814a8b43bf"
   },
   "outputs": [
    {
     "data": {
      "text/plain": [
       "torch.Size([512, 1, 20])"
      ]
     },
     "execution_count": 82,
     "metadata": {},
     "output_type": "execute_result"
    }
   ],
   "source": [
    "# For demand steps_dim is inserted by indexing with id, for used_capacity insert node dim for broadcasting\n",
    "exceeds_cap = (state.demand[state.ids, :] + state.used_capacity[:, :, None] > state.VEHICLE_CAPACITY)\n",
    "exceeds_cap.size()"
   ]
  },
  {
   "cell_type": "code",
   "execution_count": null,
   "metadata": {
    "colab": {
     "base_uri": "https://localhost:8080/"
    },
    "id": "N-5Ft9cW3u-v",
    "outputId": "9c363ada-5032-4feb-c75f-c4364d87945c"
   },
   "outputs": [
    {
     "data": {
      "text/plain": [
       "torch.Size([512, 1, 21])"
      ]
     },
     "execution_count": 84,
     "metadata": {},
     "output_type": "execute_result"
    }
   ],
   "source": [
    "state.to_delivery.size()"
   ]
  },
  {
   "cell_type": "code",
   "execution_count": null,
   "metadata": {
    "colab": {
     "base_uri": "https://localhost:8080/"
    },
    "id": "3xh5xPOr34I0",
    "outputId": "f079a39a-7112-4b01-e441-0bde3fbda035"
   },
   "outputs": [
    {
     "data": {
      "text/plain": [
       "torch.Size([512, 1, 20])"
      ]
     },
     "execution_count": 86,
     "metadata": {},
     "output_type": "execute_result"
    }
   ],
   "source": [
    "mask_loc = visited_loc.to(state.to_delivery.device) | (1 - state.to_delivery[:, :, 1:]) | exceeds_cap\n",
    "mask_loc.size()"
   ]
  },
  {
   "cell_type": "code",
   "execution_count": null,
   "metadata": {
    "id": "yHH7pRyv4f-c"
   },
   "outputs": [],
   "source": [
    "mask_final = torch.cat([torch.ones(batch_size, 1, 1, dtype=torch.uint8, device=mask_loc.device),\n",
    "                            mask_loc], dim=-1) > 0"
   ]
  },
  {
   "cell_type": "code",
   "execution_count": null,
   "metadata": {
    "id": "243lmP305BFh"
   },
   "outputs": [],
   "source": []
  },
  {
   "cell_type": "code",
   "execution_count": null,
   "metadata": {
    "id": "o3DHaf9i5A-a"
   },
   "outputs": [],
   "source": []
  },
  {
   "cell_type": "code",
   "execution_count": null,
   "metadata": {
    "id": "iEM0NmHY5A8B"
   },
   "outputs": [],
   "source": []
  },
  {
   "cell_type": "code",
   "execution_count": null,
   "metadata": {
    "id": "Dpa4-hUJ5A4L"
   },
   "outputs": [],
   "source": []
  },
  {
   "cell_type": "code",
   "execution_count": null,
   "metadata": {
    "id": "aNPAB29Z5A1J"
   },
   "outputs": [],
   "source": []
  },
  {
   "cell_type": "code",
   "execution_count": null,
   "metadata": {
    "id": "BlU4MgsqCZEE"
   },
   "outputs": [],
   "source": [
    "#Checking the pdp_capacitated State\n",
    "#Only the \"input\" is needed to initialise the state"
   ]
  },
  {
   "cell_type": "code",
   "execution_count": null,
   "metadata": {
    "id": "PV_bJFZuvGwS"
   },
   "outputs": [],
   "source": [
    "#Initialise the encoder part:\n",
    "!python3 /content/Heterogeneous-Attentions-PDP-DRL/nets/graph_encoder.py"
   ]
  },
  {
   "cell_type": "code",
   "execution_count": null,
   "metadata": {
    "colab": {
     "base_uri": "https://localhost:8080/"
    },
    "id": "VNVYdAzCGuKm",
    "outputId": "ad2e69e7-a2a1-40b3-96a9-ba6b56913ad1"
   },
   "outputs": [
    {
     "name": "stderr",
     "output_type": "stream",
     "text": [
      "/usr/local/lib/python3.7/dist-packages/ipykernel_launcher.py:6: DeprecationWarning: __class__ not set defining 'StatePDP_cap' as <class '__main__.StatePDP_cap'>. Was __classcell__ propagated to type.__new__?\n",
      "  \n"
     ]
    }
   ],
   "source": [
    "import torch\n",
    "from typing import NamedTuple\n",
    "#from utils.boolmask import mask_long2bool, mask_long_scatter\n",
    "\n",
    "\n",
    "class StatePDP_cap(NamedTuple):\n",
    "    # Fixed input\n",
    "    coords: torch.Tensor  # Depot + loc\n",
    "    demand: torch.Tensor\n",
    "\n",
    "    # If this state contains multiple copies (i.e. beam search) for the same instance, then for memory efficiency\n",
    "    # the coords and demands tensors are not kept multiple times, so we need to use the ids to index the correct rows.\n",
    "    ids: torch.Tensor  # Keeps track of original fixed data index of rows\n",
    "\n",
    "    # State\n",
    "    prev_a: torch.Tensor\n",
    "    used_capacity: torch.Tensor       #---Updating (increasing) used capacity if the visited node is drop node\n",
    "    visited_: torch.Tensor  # Keeps track of nodes that have been visited\n",
    "    lengths: torch.Tensor\n",
    "    cur_coord: torch.Tensor\n",
    "    i: torch.Tensor  # Keeps track of step\n",
    "    to_delivery: torch.Tensor\n",
    "\n",
    "    VEHICLE_CAPACITY = 1  #Hardcoded\n",
    "\n",
    "    @property\n",
    "    def visited(self):\n",
    "        if self.visited_.dtype == torch.uint8:\n",
    "            return self.visited_\n",
    "        else:\n",
    "            return mask_long2bool(self.visited_, n=self.demand.size(-1))\n",
    "\n",
    "    @property\n",
    "    def dist(self):   #Where is this distance function used? Please check what distance is this?\n",
    "        return (self.coords[:, :, None, :] - self.coords[:, None, :, :]).norm(p=2, dim=-1)\n",
    "\n",
    "    def __getitem__(self, key):\n",
    "        if torch.is_tensor(key) or isinstance(key, slice):  # If tensor, idx all tensors by this tensor:\n",
    "            return self._replace(\n",
    "                ids=self.ids[key],\n",
    "                prev_a=self.prev_a[key],\n",
    "                used_capacity=self.used_capacity[key],\n",
    "                visited_=self.visited_[key],\n",
    "                lengths=self.lengths[key],\n",
    "                cur_coord=self.cur_coord[key],\n",
    "                to_delivery=self.to_delivery[key],\n",
    "            )\n",
    "        return super(StatePDP_cap, self).__getitem__(key)\n",
    "\n",
    "    # Warning: cannot override len of NamedTuple, len should be number of fields, not batch size\n",
    "    # def __len__(self):\n",
    "    #     return len(self.used_capacity)\n",
    "\n",
    "    @staticmethod\n",
    "    def initialize(input, visited_dtype=torch.uint8):\n",
    "\n",
    "        depot = input['depot']\n",
    "        loc = input['loc']\n",
    "        demand = input['demand']    #---Is this sufficient? What is its size?\n",
    "\n",
    "        batch_size, n_loc, _ = loc.size()\n",
    "        to_delivery=torch.cat([torch.ones(batch_size, 1, n_loc // 2 + 1, dtype=torch.uint8, device=loc.device),\n",
    "            torch.zeros(batch_size, 1, n_loc // 2, dtype=torch.uint8, device=loc.device)], dim=-1)  # [batch_size, 1, graph_size+1], [1,1...1, 0...0]\n",
    "        return StatePDP_cap(\n",
    "            coords=torch.cat((depot[:, None, :], loc), -2),\n",
    "            demand=demand,\n",
    "            ids=torch.arange(batch_size, dtype=torch.int64, device=loc.device)[:, None],  # Add steps dimension\n",
    "            prev_a=torch.zeros(batch_size, 1, dtype=torch.long, device=loc.device),\n",
    "            used_capacity=demand.new_zeros(batch_size, 1),\n",
    "            visited_=(  # Visited as mask is easier to understand, as long more memory efficient\n",
    "                # Keep visited_ with depot so we can scatter efficiently\n",
    "                torch.zeros(\n",
    "                    batch_size, 1, n_loc + 1,\n",
    "                    dtype=torch.uint8, device=loc.device\n",
    "                )\n",
    "                if visited_dtype == torch.uint8\n",
    "                else torch.zeros(batch_size, 1, (n_loc + 63) // 64, dtype=torch.int64, device=loc.device)  # Ceil\n",
    "            ),\n",
    "            lengths=torch.zeros(batch_size, 1, device=loc.device),\n",
    "            cur_coord=input['depot'][:, None, :],  # Add step dimension\n",
    "            i=torch.zeros(1, dtype=torch.int64, device=loc.device),  # Vector with length num_steps\n",
    "            to_delivery=to_delivery\n",
    "        )\n",
    "\n",
    "    def get_final_cost(self):\n",
    "\n",
    "        assert self.all_finished()\n",
    "\n",
    "        return self.lengths + (self.coords[self.ids, 0, :] - self.cur_coord).norm(p=2, dim=-1)\n",
    "\n",
    "    def update(self, selected):\n",
    "\n",
    "        assert self.i.size(0) == 1, \"Can only update if state represents single step\"\n",
    "\n",
    "        # Update the state\n",
    "        n_loc = self.to_delivery.size(-1) - 1  # number of customers\n",
    "        new_to_delivery = (selected + n_loc // 2) % (n_loc + 1)  # the pair node of selected node\n",
    "        new_to_delivery = new_to_delivery[:, None]\n",
    "        selected = selected[:, None]  # Add dimension for step\n",
    "        prev_a = selected\n",
    "#         n_loc = self.demand.size(-1)  # Excludes depot\n",
    "\n",
    "        # Add the length\n",
    "        cur_coord = self.coords[self.ids, selected]\n",
    "        # cur_coord = self.coords.gather(\n",
    "        #     1,\n",
    "        #     selected[:, None].expand(selected.size(0), 1, self.coords.size(-1))\n",
    "        # )[:, 0, :]\n",
    "        lengths = self.lengths + (cur_coord - self.cur_coord).norm(p=2, dim=-1)  # (batch_dim, 1)\n",
    "        #Why are keeping track of intermediary lengths?\n",
    "\n",
    "        # Not selected_demand is demand of first node (by clamp) so incorrect for nodes that visit depot!\n",
    "        #selected_demand = self.demand.gather(-1, torch.clamp(prev_a - 1, 0, n_loc - 1))\n",
    "        selected_demand = self.demand[self.ids, torch.clamp(prev_a - 1, 0, n_loc - 1)]\n",
    "\n",
    "        # Increase capacity if depot is not visited, otherwise set to 0\n",
    "        #used_capacity is used here rather than remaining capacity ... take note! (Which would be suitable?)\n",
    "        #used_capacity = torch.where(selected == 0, 0, self.used_capacity + selected_demand)\n",
    "        used_capacity = (self.used_capacity + selected_demand) * (prev_a != 0).float()\n",
    "\n",
    "        if self.visited_.dtype == torch.uint8:\n",
    "            # Note: here we do not subtract one as we have to scatter so the first column allows scattering depot\n",
    "            # Add one dimension since we write a single value\n",
    "            visited_ = self.visited_.scatter(-1, prev_a[:, :, None], 1)\n",
    "            to_delivery = self.to_delivery.scatter(-1, new_to_delivery[:, :, None], 1)\n",
    "        else:\n",
    "            # This works, will not set anything if prev_a -1 == -1 (depot)\n",
    "            visited_ = mask_long_scatter(self.visited_, prev_a - 1)\n",
    "\n",
    "        return self._replace(\n",
    "            prev_a=prev_a, visited_=visited_,\n",
    "            lengths=lengths, cur_coord=cur_coord, i=self.i + 1, to_delivery=to_delivery,\n",
    "        )\n",
    "\n",
    "    def all_finished(self):\n",
    "        return self.visited.all()\n",
    "\n",
    "    def get_finished(self):\n",
    "        return self.visited.sum(-1) == self.visited.size(-1)\n",
    "\n",
    "    def get_current_node(self):\n",
    "        return self.prev_a\n",
    "\n",
    "    def get_mask(self):\n",
    "        \"\"\"\n",
    "        Gets a (batch_size, n_loc + 1) mask with the feasible actions (0 = depot), depends on already visited and\n",
    "        remaining capacity. 0 = feasible, 1 = infeasible\n",
    "        Forbids to visit depot twice in a row, unless all nodes have been visited\n",
    "        :return:\n",
    "        \"\"\"\n",
    "\n",
    "        #Does the resource have to return to the depot at the end of the journey?\n",
    "\n",
    "        visited_loc = self.visited_   #Check the size?\n",
    "\n",
    "        n_loc = visited_loc.size(-1) - 1  # num of customers\n",
    "        batch_size = visited_loc.size(0)\n",
    "\n",
    "        # For demand steps_dim is inserted by indexing with id, for used_capacity insert node dim for broadcasting\n",
    "#         exceeds_cap = (self.demand[self.ids, :] + self.used_capacity[:, :, None] > self.VEHICLE_CAPACITY)\n",
    "        # Nodes that cannot be visited are already visited or too much demand to be served now\n",
    "        mask_loc = visited_loc.to(self.to_delivery.device) | (1 - self.to_delivery)\n",
    "\n",
    "        # Cannot visit the depot if just visited and still unserved nodes\n",
    "#         mask_depot = (self.prev_a == 0) & ((mask_loc == 0).int().sum(-1) > 0)\n",
    "\n",
    "        #For the starting condition?  Can all nodes be visited?\n",
    "        if self.i == 0:  # [0,1...1]\n",
    "            return torch.cat([torch.zeros(batch_size, 1, 1, dtype=torch.uint8, device=mask_loc.device),\n",
    "                            torch.ones(batch_size, 1, n_loc, dtype=torch.uint8, device=mask_loc.device)], dim=-1) > 0\n",
    "\n",
    "        return mask_loc > 0  # return true/false\n",
    "\n",
    "    def construct_solutions(self, actions):\n",
    "        return actions"
   ]
  },
  {
   "cell_type": "code",
   "execution_count": null,
   "metadata": {
    "id": "6Tk-Np1lCY8e"
   },
   "outputs": [],
   "source": [
    "state = StatePDP_cap.initialize(input)"
   ]
  },
  {
   "cell_type": "code",
   "execution_count": null,
   "metadata": {
    "colab": {
     "base_uri": "https://localhost:8080/"
    },
    "id": "Dfzlmr4bEhg6",
    "outputId": "b597bf48-3ac3-4baa-964f-fb830c412545"
   },
   "outputs": [
    {
     "data": {
      "text/plain": [
       "('coords',\n",
       " 'demand',\n",
       " 'ids',\n",
       " 'prev_a',\n",
       " 'used_capacity',\n",
       " 'visited_',\n",
       " 'lengths',\n",
       " 'cur_coord',\n",
       " 'i',\n",
       " 'to_delivery')"
      ]
     },
     "execution_count": 32,
     "metadata": {},
     "output_type": "execute_result"
    }
   ],
   "source": [
    "state._fields"
   ]
  },
  {
   "cell_type": "code",
   "execution_count": null,
   "metadata": {
    "id": "RykMOF54CY1V"
   },
   "outputs": [],
   "source": []
  },
  {
   "cell_type": "code",
   "execution_count": null,
   "metadata": {
    "id": "oW0bkfP2CYud"
   },
   "outputs": [],
   "source": []
  },
  {
   "cell_type": "code",
   "execution_count": null,
   "metadata": {
    "id": "ghBtkLTqCYnI"
   },
   "outputs": [],
   "source": []
  },
  {
   "cell_type": "code",
   "execution_count": null,
   "metadata": {
    "id": "WkwtleN1CYfl"
   },
   "outputs": [],
   "source": []
  },
  {
   "cell_type": "code",
   "execution_count": null,
   "metadata": {
    "id": "DBFL984yCYYZ"
   },
   "outputs": [],
   "source": []
  },
  {
   "cell_type": "code",
   "execution_count": null,
   "metadata": {
    "id": "JYdwgADkCYQd"
   },
   "outputs": [],
   "source": []
  },
  {
   "cell_type": "code",
   "execution_count": null,
   "metadata": {
    "id": "TT4caG8GCYJL"
   },
   "outputs": [],
   "source": []
  },
  {
   "cell_type": "code",
   "execution_count": null,
   "metadata": {
    "id": "XXi5DzYdCYAY"
   },
   "outputs": [],
   "source": []
  },
  {
   "cell_type": "code",
   "execution_count": null,
   "metadata": {
    "id": "vISuvFck2Kpu"
   },
   "outputs": [],
   "source": [
    "embedding"
   ]
  },
  {
   "cell_type": "code",
   "execution_count": null,
   "metadata": {
    "colab": {
     "base_uri": "https://localhost:8080/"
    },
    "id": "VsBGC-YctPw7",
    "outputId": "03cb5eea-77fa-4c8d-b789-709ebbc937e4"
   },
   "outputs": [
    {
     "data": {
      "text/plain": [
       "torch.Size([5, 2])"
      ]
     },
     "execution_count": 40,
     "metadata": {},
     "output_type": "execute_result"
    }
   ],
   "source": [
    "x['depot'][:, None, :].squeeze(1).size()"
   ]
  },
  {
   "cell_type": "code",
   "execution_count": null,
   "metadata": {
    "colab": {
     "base_uri": "https://localhost:8080/"
    },
    "id": "o2YtNd1n154L",
    "outputId": "55927856-8f0f-4b62-bf05-def6504b3e60"
   },
   "outputs": [
    {
     "data": {
      "text/plain": [
       "torch.Size([512, 20, 2])"
      ]
     },
     "execution_count": 21,
     "metadata": {},
     "output_type": "execute_result"
    }
   ],
   "source": [
    "input['loc'].size()"
   ]
  },
  {
   "cell_type": "code",
   "execution_count": null,
   "metadata": {
    "id": "8kbJRdViFdNV"
   },
   "outputs": [],
   "source": [
    "import sys\n",
    "sys.path.append('/content/Heterogeneous-Attentions-PDP-DRL')"
   ]
  },
  {
   "cell_type": "code",
   "execution_count": null,
   "metadata": {
    "id": "FsUuerlnBXh2"
   },
   "outputs": [],
   "source": [
    "!python3 /content/Heterogeneous-Attentions-PDP-DRL/at_mod.py\n",
    "import at_mod"
   ]
  },
  {
   "cell_type": "code",
   "execution_count": null,
   "metadata": {
    "colab": {
     "base_uri": "https://localhost:8080/"
    },
    "id": "5uwbzRfkeRKP",
    "outputId": "1571b6f1-2046-4a57-ffe6-ebd7e5dbd5d2"
   },
   "outputs": [
    {
     "name": "stdout",
     "output_type": "stream",
     "text": [
      "number of nodes is20\n"
     ]
    },
    {
     "data": {
      "text/plain": [
       "torch.Size([512, 1, 128])"
      ]
     },
     "execution_count": 63,
     "metadata": {},
     "output_type": "execute_result"
    }
   ],
   "source": [
    "#---  embeddings, _ = self.embedder(self._init_embed(input))  ---#\n",
    "\n",
    "#---  def _init_embed(self, input):   ---#\n",
    "import torch.nn as nn\n",
    "input = x\n",
    "\n",
    "n_loc = input['loc'].size(1)\n",
    "print(f\"number of nodes is{n_loc}\") #Number of nodes in each graph_dataset\n",
    "\n",
    "#embed_depot = at_mod.init_embed_depot(input['depot'][:, None, :]) also works?\n",
    "embed_depot = at_mod.init_embed_depot(input['depot'])[:, None, :]\n",
    "embed_depot.size()"
   ]
  },
  {
   "cell_type": "code",
   "execution_count": null,
   "metadata": {
    "colab": {
     "base_uri": "https://localhost:8080/"
    },
    "id": "xikY2zXyGmub",
    "outputId": "57f40033-d9ef-4640-ed40-2c0cf40020d8"
   },
   "outputs": [
    {
     "data": {
      "text/plain": [
       "torch.Size([512, 1, 128])"
      ]
     },
     "execution_count": 60,
     "metadata": {},
     "output_type": "execute_result"
    }
   ],
   "source": [
    "at_mod.init_embed_depot(input['depot'][:, None, :]).size()"
   ]
  },
  {
   "cell_type": "code",
   "execution_count": null,
   "metadata": {
    "id": "KvQDh4IRQhY8"
   },
   "outputs": [],
   "source": [
    "size=20"
   ]
  },
  {
   "cell_type": "code",
   "execution_count": null,
   "metadata": {
    "id": "ZnC9fGTkGmoy"
   },
   "outputs": [],
   "source": [
    "interim_demand = (torch.FloatTensor(size//2).uniform_(0, 1))/3"
   ]
  },
  {
   "cell_type": "markdown",
   "metadata": {
    "id": "OcTRbJo6R_Hm"
   },
   "source": []
  },
  {
   "cell_type": "code",
   "execution_count": null,
   "metadata": {
    "colab": {
     "base_uri": "https://localhost:8080/"
    },
    "id": "2l63s722Gmk9",
    "outputId": "a2163754-2c7a-4488-bcbe-cd0dfa049614"
   },
   "outputs": [
    {
     "data": {
      "text/plain": [
       "torch.Size([10])"
      ]
     },
     "execution_count": 74,
     "metadata": {},
     "output_type": "execute_result"
    }
   ],
   "source": [
    "interim_demand.size()"
   ]
  },
  {
   "cell_type": "code",
   "execution_count": null,
   "metadata": {
    "colab": {
     "base_uri": "https://localhost:8080/"
    },
    "id": "3z895HuEGmhd",
    "outputId": "2c165173-f945-4aad-d05f-0c6db35d4635"
   },
   "outputs": [
    {
     "data": {
      "text/plain": [
       "tensor([0.2582, 0.1775, 0.3064, 0.0051, 0.2519, 0.0317, 0.2198, 0.2437, 0.1407,\n",
       "        0.1608])"
      ]
     },
     "execution_count": 75,
     "metadata": {},
     "output_type": "execute_result"
    }
   ],
   "source": [
    "interim_demand"
   ]
  },
  {
   "cell_type": "code",
   "execution_count": null,
   "metadata": {
    "id": "Rnw2LU8ZwWRb"
   },
   "outputs": [],
   "source": [
    "feature_pick = torch.cat([input['loc'][:, :n_loc // 2, :], input['loc'][:, n_loc // 2:, :]], -1)\n",
    "feature_delivery = input['loc'][:, n_loc // 2:, :]"
   ]
  },
  {
   "cell_type": "code",
   "execution_count": null,
   "metadata": {
    "colab": {
     "base_uri": "https://localhost:8080/"
    },
    "id": "m2ZQBkTkx1nY",
    "outputId": "ceeea871-4c57-4620-bb64-61c548e24249"
   },
   "outputs": [
    {
     "name": "stdout",
     "output_type": "stream",
     "text": [
      "torch.Size([50, 5, 2])\n",
      "torch.Size([50, 5, 4])\n"
     ]
    }
   ],
   "source": [
    "print(feature_delivery.size())\n",
    "print(feature_pick.size())"
   ]
  },
  {
   "cell_type": "code",
   "execution_count": null,
   "metadata": {
    "id": "g8SJ4T89s4t8"
   },
   "outputs": [],
   "source": [
    "\n",
    "            # [batch_size, graph_size//2, 2] loc\n",
    "            feature_delivery = input['loc'][:, n_loc // 2:, :]  # [batch_size, graph_size//2, 2]\n",
    "            embed_pick = self.init_embed_pick(feature_pick)\n",
    "            embed_delivery = self.init_embed_delivery(feature_delivery)\n",
    "            return torch.cat([embed_depot, embed_pick, embed_delivery], 1)  "
   ]
  },
  {
   "cell_type": "code",
   "execution_count": null,
   "metadata": {
    "id": "jTW05M4w61l9"
   },
   "outputs": [],
   "source": [
    "embedding_dim = 128"
   ]
  },
  {
   "cell_type": "code",
   "execution_count": null,
   "metadata": {
    "id": "Hy99T5LC6oze"
   },
   "outputs": [],
   "source": [
    "from torch import nn\n",
    "init_embed_depot = nn.Linear(2, embedding_dim)\n",
    "init_embed_pick = nn.Linear(4, embedding_dim)\n",
    "init_embed_delivery = nn.Linear(2, embedding_dim)"
   ]
  },
  {
   "cell_type": "code",
   "execution_count": null,
   "metadata": {
    "id": "nxZv-AfI7u8n"
   },
   "outputs": [],
   "source": [
    "embed_depot = init_embed_depot(input['depot'])[:, None, :]"
   ]
  },
  {
   "cell_type": "code",
   "execution_count": null,
   "metadata": {
    "colab": {
     "base_uri": "https://localhost:8080/"
    },
    "id": "n4JMeO3678WU",
    "outputId": "98e90b8b-8d50-4f84-ccbd-29d897c313a6"
   },
   "outputs": [
    {
     "data": {
      "text/plain": [
       "torch.Size([50, 2])"
      ]
     },
     "execution_count": 92,
     "metadata": {},
     "output_type": "execute_result"
    }
   ],
   "source": [
    "input['depot'].size()"
   ]
  },
  {
   "cell_type": "code",
   "execution_count": null,
   "metadata": {
    "colab": {
     "base_uri": "https://localhost:8080/"
    },
    "id": "nFK-cmVL73pt",
    "outputId": "8a2edd90-b174-407f-f40f-cab0bda278a4"
   },
   "outputs": [
    {
     "data": {
      "text/plain": [
       "torch.Size([50, 1, 128])"
      ]
     },
     "execution_count": 94,
     "metadata": {},
     "output_type": "execute_result"
    }
   ],
   "source": [
    "embed_depot.size()"
   ]
  },
  {
   "cell_type": "code",
   "execution_count": null,
   "metadata": {
    "id": "-ZcEQQUq8HIl"
   },
   "outputs": [],
   "source": [
    "            embed_pick = init_embed_pick(feature_pick)\n",
    "            embed_delivery = init_embed_delivery(feature_delivery)"
   ]
  },
  {
   "cell_type": "code",
   "execution_count": null,
   "metadata": {
    "colab": {
     "base_uri": "https://localhost:8080/"
    },
    "id": "dsP6Ua9QM8-B",
    "outputId": "0a481714-2f43-45a9-f92c-01186b54ca1a"
   },
   "outputs": [
    {
     "data": {
      "text/plain": [
       "tensor([7.7359, 1.8925])"
      ]
     },
     "execution_count": 103,
     "metadata": {},
     "output_type": "execute_result"
    }
   ],
   "source": [
    "vary = torch.FloatTensor(2).uniform_(0, 9)\n",
    "vary"
   ]
  },
  {
   "cell_type": "code",
   "execution_count": null,
   "metadata": {
    "colab": {
     "base_uri": "https://localhost:8080/"
    },
    "id": "A0Bl0Nc48NW_",
    "outputId": "ae6c725d-620a-4636-ebb2-2d8a2631ee3c"
   },
   "outputs": [
    {
     "name": "stdout",
     "output_type": "stream",
     "text": [
      "torch.Size([50, 5, 128])\n",
      "torch.Size([50, 5, 128])\n",
      "torch.Size([50, 1, 128])\n"
     ]
    }
   ],
   "source": [
    "print(embed_pick.size())\n",
    "print(embed_delivery.size())\n",
    "print(embed_depot.size())"
   ]
  },
  {
   "cell_type": "code",
   "execution_count": null,
   "metadata": {
    "colab": {
     "base_uri": "https://localhost:8080/"
    },
    "id": "PbOrIa_h8i5T",
    "outputId": "c93c707b-0897-4928-c4e8-e4df17ab2c83"
   },
   "outputs": [
    {
     "data": {
      "text/plain": [
       "torch.Size([50, 11, 128])"
      ]
     },
     "execution_count": 99,
     "metadata": {},
     "output_type": "execute_result"
    }
   ],
   "source": [
    "torch.cat([embed_depot, embed_pick, embed_delivery], 1).size()"
   ]
  },
  {
   "cell_type": "code",
   "execution_count": null,
   "metadata": {
    "colab": {
     "base_uri": "https://localhost:8080/"
    },
    "id": "o3mX4imUymG7",
    "outputId": "88e497b1-246f-43c0-fcad-1a9e6bbf370e"
   },
   "outputs": [
    {
     "data": {
      "text/plain": [
       "tensor([[ 1.8892, -2.0940, -1.3353],\n",
       "        [-2.6383, -1.0693, -1.2883]])"
      ]
     },
     "execution_count": 61,
     "metadata": {},
     "output_type": "execute_result"
    }
   ],
   "source": [
    "x = torch.randn(2, 3)\n",
    "x"
   ]
  },
  {
   "cell_type": "code",
   "execution_count": null,
   "metadata": {
    "colab": {
     "base_uri": "https://localhost:8080/"
    },
    "id": "jlJjeo6xypQu",
    "outputId": "7a4c475d-3bdf-4de0-a200-356361e15f8b"
   },
   "outputs": [
    {
     "data": {
      "text/plain": [
       "torch.Size([2, 9])"
      ]
     },
     "execution_count": 64,
     "metadata": {},
     "output_type": "execute_result"
    }
   ],
   "source": [
    "torch.cat((x, x, x), 1).size()"
   ]
  },
  {
   "cell_type": "code",
   "execution_count": null,
   "metadata": {
    "colab": {
     "base_uri": "https://localhost:8080/",
     "height": 236
    },
    "id": "3BjBTyScyfaG",
    "outputId": "adbfba72-0ee0-483a-ddc5-53e8f39375a2"
   },
   "outputs": [
    {
     "ename": "NameError",
     "evalue": "ignored",
     "output_type": "error",
     "traceback": [
      "\u001b[0;31m---------------------------------------------------------------------------\u001b[0m",
      "\u001b[0;31mNameError\u001b[0m                                 Traceback (most recent call last)",
      "\u001b[0;32m<ipython-input-60-889b92a9c370>\u001b[0m in \u001b[0;36m<module>\u001b[0;34m()\u001b[0m\n\u001b[1;32m      1\u001b[0m \u001b[0mx\u001b[0m \u001b[0;34m=\u001b[0m \u001b[0mtorch\u001b[0m\u001b[0;34m.\u001b[0m\u001b[0mrandn\u001b[0m\u001b[0;34m(\u001b[0m\u001b[0;36m2\u001b[0m\u001b[0;34m,\u001b[0m \u001b[0;36m3\u001b[0m\u001b[0;34m)\u001b[0m\u001b[0;34m\u001b[0m\u001b[0;34m\u001b[0m\u001b[0m\n\u001b[1;32m      2\u001b[0m \u001b[0mx\u001b[0m\u001b[0;34m\u001b[0m\u001b[0;34m\u001b[0m\u001b[0m\n\u001b[0;32m----> 3\u001b[0;31m tensor([[ 0.6580, -1.0969, -0.4614],\n\u001b[0m\u001b[1;32m      4\u001b[0m         [-0.1034, -0.5790,  0.1497]])\n\u001b[1;32m      5\u001b[0m \u001b[0mtorch\u001b[0m\u001b[0;34m.\u001b[0m\u001b[0mcat\u001b[0m\u001b[0;34m(\u001b[0m\u001b[0;34m(\u001b[0m\u001b[0mx\u001b[0m\u001b[0;34m,\u001b[0m \u001b[0mx\u001b[0m\u001b[0;34m,\u001b[0m \u001b[0mx\u001b[0m\u001b[0;34m)\u001b[0m\u001b[0;34m,\u001b[0m \u001b[0;36m0\u001b[0m\u001b[0;34m)\u001b[0m\u001b[0;34m\u001b[0m\u001b[0;34m\u001b[0m\u001b[0m\n",
      "\u001b[0;31mNameError\u001b[0m: name 'tensor' is not defined"
     ]
    }
   ],
   "source": [
    "\n",
    "\n",
    "tensor([[ 0.6580, -1.0969, -0.4614],\n",
    "        [-0.1034, -0.5790,  0.1497],\n",
    "        [ 0.6580, -1.0969, -0.4614],\n",
    "        [-0.1034, -0.5790,  0.1497],\n",
    "        [ 0.6580, -1.0969, -0.4614],\n",
    "        [-0.1034, -0.5790,  0.1497]])\n",
    "torch.cat((x, x, x), 1)\n",
    "tensor([[ 0.6580, -1.0969, -0.4614,  0.6580, -1.0969, -0.4614,  0.6580,\n",
    "         -1.0969, -0.4614],\n",
    "        [-0.1034, -0.5790,  0.1497, -0.1034, -0.5790,  0.1497, -0.1034,\n",
    "         -0.5790,  0.1497]])"
   ]
  },
  {
   "cell_type": "code",
   "execution_count": null,
   "metadata": {
    "id": "Qv4V1SrZdwaS"
   },
   "outputs": [],
   "source": [
    "    def _init_embed(self, input):\n",
    "        if self.is_pdp:\n",
    "            n_loc = input['loc'].size(1)  # input['loc']: [batch_size, graph_size, 2]\n",
    "            embed_depot = self.init_embed_depot(input['depot'])[:, None, :]\n",
    "\n",
    "            # [batch_size, graph_size//2, 4] loc\n",
    "            feature_pick = torch.cat([input['loc'][:, :n_loc // 2, :], input['loc'][:, n_loc // 2:, :]], -1)\n",
    "            # [batch_size, graph_size//2, 2] loc\n",
    "            feature_delivery = input['loc'][:, n_loc // 2:, :]  # [batch_size, graph_size//2, 2]\n",
    "            embed_pick = self.init_embed_pick(feature_pick)\n",
    "            embed_delivery = self.init_embed_delivery(feature_delivery)\n",
    "            return torch.cat([embed_depot, embed_pick, embed_delivery], 1)  \n",
    "\n",
    "\n",
    "        if self.is_vrp or self.is_orienteering or self.is_pctsp:\n",
    "            if self.is_vrp:\n",
    "                features = ('demand',)  # [batch_size, graph_size]\n",
    "            elif self.is_orienteering:\n",
    "                features = ('prize',)\n",
    "            else:\n",
    "                assert self.is_pctsp\n",
    "                features = ('deterministic_prize', 'penalty')\n",
    "            return torch.cat(  # [batch_size, graph_size+1, embed_dim]\n",
    "                (\n",
    "                    self.init_embed_depot(input['depot'])[:, None, :],\n",
    "                    self.init_embed(torch.cat((  # [batch_size, graph_size, embed_dim]\n",
    "                        input['loc'],  # [batch_size, graph_size, 2]\n",
    "                        *(input[feat][:, :, None] for feat in features)  # [batch_size, graph_size]\n",
    "                    ), -1))  # [batch_size, graph_size, node_dim]\n",
    "                ),\n",
    "                1\n",
    "            )"
   ]
  }
 ],
 "metadata": {
  "accelerator": "GPU",
  "colab": {
   "collapsed_sections": [],
   "name": "CAPACITATED_PDP_6nodes.ipynb",
   "provenance": []
  },
  "gpuClass": "standard",
  "kernelspec": {
   "display_name": "Python 3",
   "language": "python",
   "name": "python3"
  },
  "language_info": {
   "codemirror_mode": {
    "name": "ipython",
    "version": 3
   },
   "file_extension": ".py",
   "mimetype": "text/x-python",
   "name": "python",
   "nbconvert_exporter": "python",
   "pygments_lexer": "ipython3",
   "version": "3.8.8"
  }
 },
 "nbformat": 4,
 "nbformat_minor": 1
}
